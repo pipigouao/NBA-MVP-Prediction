{
 "cells": [
  {
   "cell_type": "markdown",
   "id": "ba02546c-8a04-4a1d-bbae-2b333dcdb39f",
   "metadata": {},
   "source": [
    "# 机器学习预测mvp"
   ]
  },
  {
   "cell_type": "code",
   "execution_count": 1,
   "id": "d12f11ca-8549-40ec-b4c7-48019f37c57f",
   "metadata": {},
   "outputs": [],
   "source": [
    "import numpy as np\n",
    "import pandas as pd"
   ]
  },
  {
   "cell_type": "code",
   "execution_count": 2,
   "id": "87871621-352f-44a6-a0f6-edd234a201fe",
   "metadata": {},
   "outputs": [
    {
     "data": {
      "text/html": [
       "<div>\n",
       "<style scoped>\n",
       "    .dataframe tbody tr th:only-of-type {\n",
       "        vertical-align: middle;\n",
       "    }\n",
       "\n",
       "    .dataframe tbody tr th {\n",
       "        vertical-align: top;\n",
       "    }\n",
       "\n",
       "    .dataframe thead th {\n",
       "        text-align: right;\n",
       "    }\n",
       "</style>\n",
       "<table border=\"1\" class=\"dataframe\">\n",
       "  <thead>\n",
       "    <tr style=\"text-align: right;\">\n",
       "      <th></th>\n",
       "      <th>Player</th>\n",
       "      <th>Pos</th>\n",
       "      <th>Age</th>\n",
       "      <th>Tm</th>\n",
       "      <th>G</th>\n",
       "      <th>GS</th>\n",
       "      <th>MP</th>\n",
       "      <th>FG</th>\n",
       "      <th>FGA</th>\n",
       "      <th>FG%</th>\n",
       "      <th>...</th>\n",
       "      <th>Pts Max</th>\n",
       "      <th>Share</th>\n",
       "      <th>Team</th>\n",
       "      <th>W</th>\n",
       "      <th>L</th>\n",
       "      <th>W/L%</th>\n",
       "      <th>GB</th>\n",
       "      <th>PS/G</th>\n",
       "      <th>PA/G</th>\n",
       "      <th>SRS</th>\n",
       "    </tr>\n",
       "  </thead>\n",
       "  <tbody>\n",
       "    <tr>\n",
       "      <th>0</th>\n",
       "      <td>A.C. Green</td>\n",
       "      <td>PF</td>\n",
       "      <td>26</td>\n",
       "      <td>LAL</td>\n",
       "      <td>82</td>\n",
       "      <td>82</td>\n",
       "      <td>33.0</td>\n",
       "      <td>4.7</td>\n",
       "      <td>9.8</td>\n",
       "      <td>0.478</td>\n",
       "      <td>...</td>\n",
       "      <td>0.0</td>\n",
       "      <td>0.0</td>\n",
       "      <td>Los Angeles Lakers</td>\n",
       "      <td>63</td>\n",
       "      <td>19</td>\n",
       "      <td>0.768</td>\n",
       "      <td>—</td>\n",
       "      <td>110.7</td>\n",
       "      <td>103.9</td>\n",
       "      <td>6.74</td>\n",
       "    </tr>\n",
       "    <tr>\n",
       "      <th>1</th>\n",
       "      <td>Byron Scott</td>\n",
       "      <td>SG</td>\n",
       "      <td>28</td>\n",
       "      <td>LAL</td>\n",
       "      <td>77</td>\n",
       "      <td>77</td>\n",
       "      <td>33.7</td>\n",
       "      <td>6.1</td>\n",
       "      <td>13.1</td>\n",
       "      <td>0.470</td>\n",
       "      <td>...</td>\n",
       "      <td>0.0</td>\n",
       "      <td>0.0</td>\n",
       "      <td>Los Angeles Lakers</td>\n",
       "      <td>63</td>\n",
       "      <td>19</td>\n",
       "      <td>0.768</td>\n",
       "      <td>—</td>\n",
       "      <td>110.7</td>\n",
       "      <td>103.9</td>\n",
       "      <td>6.74</td>\n",
       "    </tr>\n",
       "    <tr>\n",
       "      <th>2</th>\n",
       "      <td>James Worthy</td>\n",
       "      <td>SF</td>\n",
       "      <td>28</td>\n",
       "      <td>LAL</td>\n",
       "      <td>80</td>\n",
       "      <td>80</td>\n",
       "      <td>37.0</td>\n",
       "      <td>8.9</td>\n",
       "      <td>16.2</td>\n",
       "      <td>0.548</td>\n",
       "      <td>...</td>\n",
       "      <td>0.0</td>\n",
       "      <td>0.0</td>\n",
       "      <td>Los Angeles Lakers</td>\n",
       "      <td>63</td>\n",
       "      <td>19</td>\n",
       "      <td>0.768</td>\n",
       "      <td>—</td>\n",
       "      <td>110.7</td>\n",
       "      <td>103.9</td>\n",
       "      <td>6.74</td>\n",
       "    </tr>\n",
       "    <tr>\n",
       "      <th>3</th>\n",
       "      <td>Jawann Oldham</td>\n",
       "      <td>C</td>\n",
       "      <td>32</td>\n",
       "      <td>LAL</td>\n",
       "      <td>6</td>\n",
       "      <td>0</td>\n",
       "      <td>7.5</td>\n",
       "      <td>0.5</td>\n",
       "      <td>1.0</td>\n",
       "      <td>0.500</td>\n",
       "      <td>...</td>\n",
       "      <td>0.0</td>\n",
       "      <td>0.0</td>\n",
       "      <td>Los Angeles Lakers</td>\n",
       "      <td>63</td>\n",
       "      <td>19</td>\n",
       "      <td>0.768</td>\n",
       "      <td>—</td>\n",
       "      <td>110.7</td>\n",
       "      <td>103.9</td>\n",
       "      <td>6.74</td>\n",
       "    </tr>\n",
       "    <tr>\n",
       "      <th>4</th>\n",
       "      <td>Jay Vincent</td>\n",
       "      <td>SF</td>\n",
       "      <td>30</td>\n",
       "      <td>LAL</td>\n",
       "      <td>41</td>\n",
       "      <td>6</td>\n",
       "      <td>11.2</td>\n",
       "      <td>2.1</td>\n",
       "      <td>4.5</td>\n",
       "      <td>0.470</td>\n",
       "      <td>...</td>\n",
       "      <td>0.0</td>\n",
       "      <td>0.0</td>\n",
       "      <td>Los Angeles Lakers</td>\n",
       "      <td>63</td>\n",
       "      <td>19</td>\n",
       "      <td>0.768</td>\n",
       "      <td>—</td>\n",
       "      <td>110.7</td>\n",
       "      <td>103.9</td>\n",
       "      <td>6.74</td>\n",
       "    </tr>\n",
       "  </tbody>\n",
       "</table>\n",
       "<p>5 rows × 41 columns</p>\n",
       "</div>"
      ],
      "text/plain": [
       "          Player Pos  Age   Tm   G  GS    MP   FG   FGA    FG%  ...  Pts Max  \\\n",
       "0     A.C. Green  PF   26  LAL  82  82  33.0  4.7   9.8  0.478  ...      0.0   \n",
       "1    Byron Scott  SG   28  LAL  77  77  33.7  6.1  13.1  0.470  ...      0.0   \n",
       "2   James Worthy  SF   28  LAL  80  80  37.0  8.9  16.2  0.548  ...      0.0   \n",
       "3  Jawann Oldham   C   32  LAL   6   0   7.5  0.5   1.0  0.500  ...      0.0   \n",
       "4    Jay Vincent  SF   30  LAL  41   6  11.2  2.1   4.5  0.470  ...      0.0   \n",
       "\n",
       "   Share                Team   W   L   W/L%  GB   PS/G   PA/G   SRS  \n",
       "0    0.0  Los Angeles Lakers  63  19  0.768   —  110.7  103.9  6.74  \n",
       "1    0.0  Los Angeles Lakers  63  19  0.768   —  110.7  103.9  6.74  \n",
       "2    0.0  Los Angeles Lakers  63  19  0.768   —  110.7  103.9  6.74  \n",
       "3    0.0  Los Angeles Lakers  63  19  0.768   —  110.7  103.9  6.74  \n",
       "4    0.0  Los Angeles Lakers  63  19  0.768   —  110.7  103.9  6.74  \n",
       "\n",
       "[5 rows x 41 columns]"
      ]
     },
     "execution_count": 2,
     "metadata": {},
     "output_type": "execute_result"
    }
   ],
   "source": [
    "stats = pd.read_csv(\"player_mvp_stats.csv\",index_col=0)\n",
    "stats.head()"
   ]
  },
  {
   "cell_type": "markdown",
   "id": "72a0abac-1176-4315-8220-6b8caaaf97d3",
   "metadata": {},
   "source": [
    "## 1.预处理"
   ]
  },
  {
   "cell_type": "markdown",
   "id": "87b97d9c-a0a6-4b35-ab3d-d2d8cfcc70ee",
   "metadata": {
    "tags": []
   },
   "source": [
    "### 1.指定预测年份"
   ]
  },
  {
   "cell_type": "code",
   "execution_count": 3,
   "id": "3c5f7805-7937-4ace-8bba-fcad9db2f233",
   "metadata": {},
   "outputs": [],
   "source": [
    "pred_year = 2019"
   ]
  },
  {
   "cell_type": "markdown",
   "id": "b7ca7c67-d948-4372-9c80-71e860147584",
   "metadata": {},
   "source": [
    "### 2.填补缺失值"
   ]
  },
  {
   "cell_type": "code",
   "execution_count": 4,
   "id": "04bd80b3-d4aa-4cb0-8951-7cbcd7fb4840",
   "metadata": {},
   "outputs": [],
   "source": [
    "stats[\"GB\"] = stats[\"GB\"].str.replace(\"—\",\"0\")\n",
    "stats[\"GB\"] = pd.to_numeric(stats[\"GB\"])"
   ]
  },
  {
   "cell_type": "code",
   "execution_count": 5,
   "id": "1ee6db19-598a-4df7-8a57-6957235c1a10",
   "metadata": {},
   "outputs": [
    {
     "data": {
      "text/plain": [
       "dtype('float64')"
      ]
     },
     "execution_count": 5,
     "metadata": {},
     "output_type": "execute_result"
    }
   ],
   "source": [
    "stats[\"GB\"].dtype"
   ]
  },
  {
   "cell_type": "code",
   "execution_count": 6,
   "id": "4b577d33-16a7-41fc-9040-f4ed1da33447",
   "metadata": {},
   "outputs": [],
   "source": [
    "stats = stats.apply(pd.to_numeric, errors='ignore')"
   ]
  },
  {
   "cell_type": "code",
   "execution_count": 7,
   "id": "18f60330-050c-4fa3-8585-1f7e9ac66362",
   "metadata": {},
   "outputs": [],
   "source": [
    "stats = stats.fillna(0)"
   ]
  },
  {
   "cell_type": "markdown",
   "id": "b3480bbe-e084-4899-bddd-eaf746e6aa93",
   "metadata": {},
   "source": [
    "### 3.选择predictor"
   ]
  },
  {
   "cell_type": "code",
   "execution_count": 8,
   "id": "6ee789d0-6d15-42a0-8086-7cc3a9fcc363",
   "metadata": {},
   "outputs": [
    {
     "data": {
      "text/plain": [
       "Index(['Player', 'Pos', 'Age', 'Tm', 'G', 'GS', 'MP', 'FG', 'FGA', 'FG%', '3P',\n",
       "       '3PA', '3P%', '2P', '2PA', '2P%', 'eFG%', 'FT', 'FTA', 'FT%', 'ORB',\n",
       "       'DRB', 'TRB', 'AST', 'STL', 'BLK', 'TOV', 'PF', 'PTS', 'Year',\n",
       "       'Pts Won', 'Pts Max', 'Share', 'Team', 'W', 'L', 'W/L%', 'GB', 'PS/G',\n",
       "       'PA/G', 'SRS'],\n",
       "      dtype='object')"
      ]
     },
     "execution_count": 8,
     "metadata": {},
     "output_type": "execute_result"
    }
   ],
   "source": [
    "stats.columns"
   ]
  },
  {
   "cell_type": "code",
   "execution_count": 9,
   "id": "f67caa4f-3d16-4d00-93b1-b249157a074c",
   "metadata": {},
   "outputs": [],
   "source": [
    "predictors = [\"Age\", \"G\", \"GS\", \"MP\", \"FG\", \"FGA\", 'FG%', '3P', '3PA'\n",
    "              , '3P%', '2P', '2PA', '2P%', 'eFG%', 'FT', 'FTA', 'FT%'\n",
    "              , 'ORB', 'DRB', 'TRB', 'AST', 'STL', 'BLK', 'TOV', 'PF', 'PTS', 'W', 'L', 'W/L%',\n",
    "       'GB', 'PS/G', 'PA/G', 'SRS','Pos']"
   ]
  },
  {
   "cell_type": "markdown",
   "id": "7c34a899-0820-45e5-b276-72e9259f39f2",
   "metadata": {},
   "source": [
    "#### 1.创建哑变量"
   ]
  },
  {
   "cell_type": "raw",
   "id": "898a7345-e1d4-4b23-b420-61b84567dd06",
   "metadata": {},
   "source": [
    "1.发现此前模型在预测时，容易给后卫更高的权重\n",
    "  因此加入 \"Pos\"(Postion)变量，削弱这一影响\n",
    "\n",
    "2.若将球队作为哑变量，维数增加过多\n",
    "  经过比较，发现所在球队对mvp归属影响不大，因此略去"
   ]
  },
  {
   "cell_type": "code",
   "execution_count": 10,
   "id": "3f8a34f7-c382-49d2-91a8-8515909e9444",
   "metadata": {},
   "outputs": [
    {
     "data": {
      "text/html": [
       "<div>\n",
       "<style scoped>\n",
       "    .dataframe tbody tr th:only-of-type {\n",
       "        vertical-align: middle;\n",
       "    }\n",
       "\n",
       "    .dataframe tbody tr th {\n",
       "        vertical-align: top;\n",
       "    }\n",
       "\n",
       "    .dataframe thead th {\n",
       "        text-align: right;\n",
       "    }\n",
       "</style>\n",
       "<table border=\"1\" class=\"dataframe\">\n",
       "  <thead>\n",
       "    <tr style=\"text-align: right;\">\n",
       "      <th></th>\n",
       "      <th>Pos_C</th>\n",
       "      <th>Pos_C-PF</th>\n",
       "      <th>Pos_PF</th>\n",
       "      <th>Pos_PF-C</th>\n",
       "      <th>Pos_PF-SF</th>\n",
       "      <th>Pos_PG</th>\n",
       "      <th>Pos_PG-SF</th>\n",
       "      <th>Pos_PG-SG</th>\n",
       "      <th>Pos_SF</th>\n",
       "      <th>Pos_SF-C</th>\n",
       "      <th>Pos_SF-PF</th>\n",
       "      <th>Pos_SF-SG</th>\n",
       "      <th>Pos_SG</th>\n",
       "      <th>Pos_SG-PF</th>\n",
       "      <th>Pos_SG-PG</th>\n",
       "      <th>Pos_SG-PG-SF</th>\n",
       "      <th>Pos_SG-SF</th>\n",
       "    </tr>\n",
       "  </thead>\n",
       "  <tbody>\n",
       "    <tr>\n",
       "      <th>0</th>\n",
       "      <td>0</td>\n",
       "      <td>0</td>\n",
       "      <td>1</td>\n",
       "      <td>0</td>\n",
       "      <td>0</td>\n",
       "      <td>0</td>\n",
       "      <td>0</td>\n",
       "      <td>0</td>\n",
       "      <td>0</td>\n",
       "      <td>0</td>\n",
       "      <td>0</td>\n",
       "      <td>0</td>\n",
       "      <td>0</td>\n",
       "      <td>0</td>\n",
       "      <td>0</td>\n",
       "      <td>0</td>\n",
       "      <td>0</td>\n",
       "    </tr>\n",
       "    <tr>\n",
       "      <th>1</th>\n",
       "      <td>0</td>\n",
       "      <td>0</td>\n",
       "      <td>0</td>\n",
       "      <td>0</td>\n",
       "      <td>0</td>\n",
       "      <td>0</td>\n",
       "      <td>0</td>\n",
       "      <td>0</td>\n",
       "      <td>0</td>\n",
       "      <td>0</td>\n",
       "      <td>0</td>\n",
       "      <td>0</td>\n",
       "      <td>1</td>\n",
       "      <td>0</td>\n",
       "      <td>0</td>\n",
       "      <td>0</td>\n",
       "      <td>0</td>\n",
       "    </tr>\n",
       "    <tr>\n",
       "      <th>2</th>\n",
       "      <td>0</td>\n",
       "      <td>0</td>\n",
       "      <td>0</td>\n",
       "      <td>0</td>\n",
       "      <td>0</td>\n",
       "      <td>0</td>\n",
       "      <td>0</td>\n",
       "      <td>0</td>\n",
       "      <td>1</td>\n",
       "      <td>0</td>\n",
       "      <td>0</td>\n",
       "      <td>0</td>\n",
       "      <td>0</td>\n",
       "      <td>0</td>\n",
       "      <td>0</td>\n",
       "      <td>0</td>\n",
       "      <td>0</td>\n",
       "    </tr>\n",
       "    <tr>\n",
       "      <th>3</th>\n",
       "      <td>1</td>\n",
       "      <td>0</td>\n",
       "      <td>0</td>\n",
       "      <td>0</td>\n",
       "      <td>0</td>\n",
       "      <td>0</td>\n",
       "      <td>0</td>\n",
       "      <td>0</td>\n",
       "      <td>0</td>\n",
       "      <td>0</td>\n",
       "      <td>0</td>\n",
       "      <td>0</td>\n",
       "      <td>0</td>\n",
       "      <td>0</td>\n",
       "      <td>0</td>\n",
       "      <td>0</td>\n",
       "      <td>0</td>\n",
       "    </tr>\n",
       "    <tr>\n",
       "      <th>4</th>\n",
       "      <td>0</td>\n",
       "      <td>0</td>\n",
       "      <td>0</td>\n",
       "      <td>0</td>\n",
       "      <td>0</td>\n",
       "      <td>0</td>\n",
       "      <td>0</td>\n",
       "      <td>0</td>\n",
       "      <td>1</td>\n",
       "      <td>0</td>\n",
       "      <td>0</td>\n",
       "      <td>0</td>\n",
       "      <td>0</td>\n",
       "      <td>0</td>\n",
       "      <td>0</td>\n",
       "      <td>0</td>\n",
       "      <td>0</td>\n",
       "    </tr>\n",
       "    <tr>\n",
       "      <th>...</th>\n",
       "      <td>...</td>\n",
       "      <td>...</td>\n",
       "      <td>...</td>\n",
       "      <td>...</td>\n",
       "      <td>...</td>\n",
       "      <td>...</td>\n",
       "      <td>...</td>\n",
       "      <td>...</td>\n",
       "      <td>...</td>\n",
       "      <td>...</td>\n",
       "      <td>...</td>\n",
       "      <td>...</td>\n",
       "      <td>...</td>\n",
       "      <td>...</td>\n",
       "      <td>...</td>\n",
       "      <td>...</td>\n",
       "      <td>...</td>\n",
       "    </tr>\n",
       "    <tr>\n",
       "      <th>15071</th>\n",
       "      <td>0</td>\n",
       "      <td>0</td>\n",
       "      <td>1</td>\n",
       "      <td>0</td>\n",
       "      <td>0</td>\n",
       "      <td>0</td>\n",
       "      <td>0</td>\n",
       "      <td>0</td>\n",
       "      <td>0</td>\n",
       "      <td>0</td>\n",
       "      <td>0</td>\n",
       "      <td>0</td>\n",
       "      <td>0</td>\n",
       "      <td>0</td>\n",
       "      <td>0</td>\n",
       "      <td>0</td>\n",
       "      <td>0</td>\n",
       "    </tr>\n",
       "    <tr>\n",
       "      <th>15072</th>\n",
       "      <td>0</td>\n",
       "      <td>0</td>\n",
       "      <td>1</td>\n",
       "      <td>0</td>\n",
       "      <td>0</td>\n",
       "      <td>0</td>\n",
       "      <td>0</td>\n",
       "      <td>0</td>\n",
       "      <td>0</td>\n",
       "      <td>0</td>\n",
       "      <td>0</td>\n",
       "      <td>0</td>\n",
       "      <td>0</td>\n",
       "      <td>0</td>\n",
       "      <td>0</td>\n",
       "      <td>0</td>\n",
       "      <td>0</td>\n",
       "    </tr>\n",
       "    <tr>\n",
       "      <th>15073</th>\n",
       "      <td>0</td>\n",
       "      <td>0</td>\n",
       "      <td>1</td>\n",
       "      <td>0</td>\n",
       "      <td>0</td>\n",
       "      <td>0</td>\n",
       "      <td>0</td>\n",
       "      <td>0</td>\n",
       "      <td>0</td>\n",
       "      <td>0</td>\n",
       "      <td>0</td>\n",
       "      <td>0</td>\n",
       "      <td>0</td>\n",
       "      <td>0</td>\n",
       "      <td>0</td>\n",
       "      <td>0</td>\n",
       "      <td>0</td>\n",
       "    </tr>\n",
       "    <tr>\n",
       "      <th>15074</th>\n",
       "      <td>1</td>\n",
       "      <td>0</td>\n",
       "      <td>0</td>\n",
       "      <td>0</td>\n",
       "      <td>0</td>\n",
       "      <td>0</td>\n",
       "      <td>0</td>\n",
       "      <td>0</td>\n",
       "      <td>0</td>\n",
       "      <td>0</td>\n",
       "      <td>0</td>\n",
       "      <td>0</td>\n",
       "      <td>0</td>\n",
       "      <td>0</td>\n",
       "      <td>0</td>\n",
       "      <td>0</td>\n",
       "      <td>0</td>\n",
       "    </tr>\n",
       "    <tr>\n",
       "      <th>15075</th>\n",
       "      <td>0</td>\n",
       "      <td>0</td>\n",
       "      <td>0</td>\n",
       "      <td>0</td>\n",
       "      <td>0</td>\n",
       "      <td>0</td>\n",
       "      <td>0</td>\n",
       "      <td>0</td>\n",
       "      <td>0</td>\n",
       "      <td>0</td>\n",
       "      <td>0</td>\n",
       "      <td>0</td>\n",
       "      <td>1</td>\n",
       "      <td>0</td>\n",
       "      <td>0</td>\n",
       "      <td>0</td>\n",
       "      <td>0</td>\n",
       "    </tr>\n",
       "  </tbody>\n",
       "</table>\n",
       "<p>15076 rows × 17 columns</p>\n",
       "</div>"
      ],
      "text/plain": [
       "       Pos_C  Pos_C-PF  Pos_PF  Pos_PF-C  Pos_PF-SF  Pos_PG  Pos_PG-SF  \\\n",
       "0          0         0       1         0          0       0          0   \n",
       "1          0         0       0         0          0       0          0   \n",
       "2          0         0       0         0          0       0          0   \n",
       "3          1         0       0         0          0       0          0   \n",
       "4          0         0       0         0          0       0          0   \n",
       "...      ...       ...     ...       ...        ...     ...        ...   \n",
       "15071      0         0       1         0          0       0          0   \n",
       "15072      0         0       1         0          0       0          0   \n",
       "15073      0         0       1         0          0       0          0   \n",
       "15074      1         0       0         0          0       0          0   \n",
       "15075      0         0       0         0          0       0          0   \n",
       "\n",
       "       Pos_PG-SG  Pos_SF  Pos_SF-C  Pos_SF-PF  Pos_SF-SG  Pos_SG  Pos_SG-PF  \\\n",
       "0              0       0         0          0          0       0          0   \n",
       "1              0       0         0          0          0       1          0   \n",
       "2              0       1         0          0          0       0          0   \n",
       "3              0       0         0          0          0       0          0   \n",
       "4              0       1         0          0          0       0          0   \n",
       "...          ...     ...       ...        ...        ...     ...        ...   \n",
       "15071          0       0         0          0          0       0          0   \n",
       "15072          0       0         0          0          0       0          0   \n",
       "15073          0       0         0          0          0       0          0   \n",
       "15074          0       0         0          0          0       0          0   \n",
       "15075          0       0         0          0          0       1          0   \n",
       "\n",
       "       Pos_SG-PG  Pos_SG-PG-SF  Pos_SG-SF  \n",
       "0              0             0          0  \n",
       "1              0             0          0  \n",
       "2              0             0          0  \n",
       "3              0             0          0  \n",
       "4              0             0          0  \n",
       "...          ...           ...        ...  \n",
       "15071          0             0          0  \n",
       "15072          0             0          0  \n",
       "15073          0             0          0  \n",
       "15074          0             0          0  \n",
       "15075          0             0          0  \n",
       "\n",
       "[15076 rows x 17 columns]"
      ]
     },
     "execution_count": 10,
     "metadata": {},
     "output_type": "execute_result"
    }
   ],
   "source": [
    "pd.get_dummies(stats['Pos'],prefix='Pos')"
   ]
  },
  {
   "cell_type": "code",
   "execution_count": 11,
   "id": "d392a4a6-049c-4777-86e7-014acc338b44",
   "metadata": {},
   "outputs": [
    {
     "data": {
      "text/plain": [
       "Index(['Pos_C', 'Pos_C-PF', 'Pos_PF', 'Pos_PF-C', 'Pos_PF-SF', 'Pos_PG',\n",
       "       'Pos_PG-SF', 'Pos_PG-SG', 'Pos_SF', 'Pos_SF-C', 'Pos_SF-PF',\n",
       "       'Pos_SF-SG', 'Pos_SG', 'Pos_SG-PF', 'Pos_SG-PG', 'Pos_SG-PG-SF',\n",
       "       'Pos_SG-SF'],\n",
       "      dtype='object')"
      ]
     },
     "execution_count": 11,
     "metadata": {},
     "output_type": "execute_result"
    }
   ],
   "source": [
    "dummy_pos = pd.get_dummies(stats['Pos'],prefix='Pos')\n",
    "dummy_pos.columns"
   ]
  },
  {
   "cell_type": "code",
   "execution_count": 12,
   "id": "ad17f772-d1a0-4a9d-a68e-24c46a84bac4",
   "metadata": {},
   "outputs": [],
   "source": [
    "predictors.remove(\"Pos\")"
   ]
  },
  {
   "cell_type": "code",
   "execution_count": 13,
   "id": "6b17c9f2-8551-4ff3-ba4e-8c5ae08ecb1d",
   "metadata": {},
   "outputs": [],
   "source": [
    "predictors_and_dum = predictors + dummy_pos.columns.tolist()"
   ]
  },
  {
   "cell_type": "code",
   "execution_count": 14,
   "id": "23c095c6-b254-47ff-9a0c-4d5c1a14a845",
   "metadata": {
    "tags": []
   },
   "outputs": [
    {
     "data": {
      "text/plain": [
       "['Age',\n",
       " 'G',\n",
       " 'GS',\n",
       " 'MP',\n",
       " 'FG',\n",
       " 'FGA',\n",
       " 'FG%',\n",
       " '3P',\n",
       " '3PA',\n",
       " '3P%',\n",
       " '2P',\n",
       " '2PA',\n",
       " '2P%',\n",
       " 'eFG%',\n",
       " 'FT',\n",
       " 'FTA',\n",
       " 'FT%',\n",
       " 'ORB',\n",
       " 'DRB',\n",
       " 'TRB',\n",
       " 'AST',\n",
       " 'STL',\n",
       " 'BLK',\n",
       " 'TOV',\n",
       " 'PF',\n",
       " 'PTS',\n",
       " 'W',\n",
       " 'L',\n",
       " 'W/L%',\n",
       " 'GB',\n",
       " 'PS/G',\n",
       " 'PA/G',\n",
       " 'SRS',\n",
       " 'Pos_C',\n",
       " 'Pos_C-PF',\n",
       " 'Pos_PF',\n",
       " 'Pos_PF-C',\n",
       " 'Pos_PF-SF',\n",
       " 'Pos_PG',\n",
       " 'Pos_PG-SF',\n",
       " 'Pos_PG-SG',\n",
       " 'Pos_SF',\n",
       " 'Pos_SF-C',\n",
       " 'Pos_SF-PF',\n",
       " 'Pos_SF-SG',\n",
       " 'Pos_SG',\n",
       " 'Pos_SG-PF',\n",
       " 'Pos_SG-PG',\n",
       " 'Pos_SG-PG-SF',\n",
       " 'Pos_SG-SF']"
      ]
     },
     "execution_count": 14,
     "metadata": {},
     "output_type": "execute_result"
    }
   ],
   "source": [
    "predictors_and_dum"
   ]
  },
  {
   "cell_type": "code",
   "execution_count": 15,
   "id": "d55be0fc-25c3-46ff-a26a-0d6e7e704385",
   "metadata": {},
   "outputs": [
    {
     "data": {
      "text/html": [
       "<div>\n",
       "<style scoped>\n",
       "    .dataframe tbody tr th:only-of-type {\n",
       "        vertical-align: middle;\n",
       "    }\n",
       "\n",
       "    .dataframe tbody tr th {\n",
       "        vertical-align: top;\n",
       "    }\n",
       "\n",
       "    .dataframe thead th {\n",
       "        text-align: right;\n",
       "    }\n",
       "</style>\n",
       "<table border=\"1\" class=\"dataframe\">\n",
       "  <thead>\n",
       "    <tr style=\"text-align: right;\">\n",
       "      <th></th>\n",
       "      <th>Player</th>\n",
       "      <th>Pos</th>\n",
       "      <th>Age</th>\n",
       "      <th>Tm</th>\n",
       "      <th>G</th>\n",
       "      <th>GS</th>\n",
       "      <th>MP</th>\n",
       "      <th>FG</th>\n",
       "      <th>FGA</th>\n",
       "      <th>FG%</th>\n",
       "      <th>...</th>\n",
       "      <th>Pos_PG-SG</th>\n",
       "      <th>Pos_SF</th>\n",
       "      <th>Pos_SF-C</th>\n",
       "      <th>Pos_SF-PF</th>\n",
       "      <th>Pos_SF-SG</th>\n",
       "      <th>Pos_SG</th>\n",
       "      <th>Pos_SG-PF</th>\n",
       "      <th>Pos_SG-PG</th>\n",
       "      <th>Pos_SG-PG-SF</th>\n",
       "      <th>Pos_SG-SF</th>\n",
       "    </tr>\n",
       "  </thead>\n",
       "  <tbody>\n",
       "    <tr>\n",
       "      <th>0</th>\n",
       "      <td>A.C. Green</td>\n",
       "      <td>PF</td>\n",
       "      <td>26</td>\n",
       "      <td>LAL</td>\n",
       "      <td>82</td>\n",
       "      <td>82</td>\n",
       "      <td>33.0</td>\n",
       "      <td>4.7</td>\n",
       "      <td>9.8</td>\n",
       "      <td>0.478</td>\n",
       "      <td>...</td>\n",
       "      <td>0</td>\n",
       "      <td>0</td>\n",
       "      <td>0</td>\n",
       "      <td>0</td>\n",
       "      <td>0</td>\n",
       "      <td>0</td>\n",
       "      <td>0</td>\n",
       "      <td>0</td>\n",
       "      <td>0</td>\n",
       "      <td>0</td>\n",
       "    </tr>\n",
       "    <tr>\n",
       "      <th>1</th>\n",
       "      <td>Byron Scott</td>\n",
       "      <td>SG</td>\n",
       "      <td>28</td>\n",
       "      <td>LAL</td>\n",
       "      <td>77</td>\n",
       "      <td>77</td>\n",
       "      <td>33.7</td>\n",
       "      <td>6.1</td>\n",
       "      <td>13.1</td>\n",
       "      <td>0.470</td>\n",
       "      <td>...</td>\n",
       "      <td>0</td>\n",
       "      <td>0</td>\n",
       "      <td>0</td>\n",
       "      <td>0</td>\n",
       "      <td>0</td>\n",
       "      <td>1</td>\n",
       "      <td>0</td>\n",
       "      <td>0</td>\n",
       "      <td>0</td>\n",
       "      <td>0</td>\n",
       "    </tr>\n",
       "    <tr>\n",
       "      <th>2</th>\n",
       "      <td>James Worthy</td>\n",
       "      <td>SF</td>\n",
       "      <td>28</td>\n",
       "      <td>LAL</td>\n",
       "      <td>80</td>\n",
       "      <td>80</td>\n",
       "      <td>37.0</td>\n",
       "      <td>8.9</td>\n",
       "      <td>16.2</td>\n",
       "      <td>0.548</td>\n",
       "      <td>...</td>\n",
       "      <td>0</td>\n",
       "      <td>1</td>\n",
       "      <td>0</td>\n",
       "      <td>0</td>\n",
       "      <td>0</td>\n",
       "      <td>0</td>\n",
       "      <td>0</td>\n",
       "      <td>0</td>\n",
       "      <td>0</td>\n",
       "      <td>0</td>\n",
       "    </tr>\n",
       "    <tr>\n",
       "      <th>3</th>\n",
       "      <td>Jawann Oldham</td>\n",
       "      <td>C</td>\n",
       "      <td>32</td>\n",
       "      <td>LAL</td>\n",
       "      <td>6</td>\n",
       "      <td>0</td>\n",
       "      <td>7.5</td>\n",
       "      <td>0.5</td>\n",
       "      <td>1.0</td>\n",
       "      <td>0.500</td>\n",
       "      <td>...</td>\n",
       "      <td>0</td>\n",
       "      <td>0</td>\n",
       "      <td>0</td>\n",
       "      <td>0</td>\n",
       "      <td>0</td>\n",
       "      <td>0</td>\n",
       "      <td>0</td>\n",
       "      <td>0</td>\n",
       "      <td>0</td>\n",
       "      <td>0</td>\n",
       "    </tr>\n",
       "    <tr>\n",
       "      <th>4</th>\n",
       "      <td>Jay Vincent</td>\n",
       "      <td>SF</td>\n",
       "      <td>30</td>\n",
       "      <td>LAL</td>\n",
       "      <td>41</td>\n",
       "      <td>6</td>\n",
       "      <td>11.2</td>\n",
       "      <td>2.1</td>\n",
       "      <td>4.5</td>\n",
       "      <td>0.470</td>\n",
       "      <td>...</td>\n",
       "      <td>0</td>\n",
       "      <td>1</td>\n",
       "      <td>0</td>\n",
       "      <td>0</td>\n",
       "      <td>0</td>\n",
       "      <td>0</td>\n",
       "      <td>0</td>\n",
       "      <td>0</td>\n",
       "      <td>0</td>\n",
       "      <td>0</td>\n",
       "    </tr>\n",
       "  </tbody>\n",
       "</table>\n",
       "<p>5 rows × 58 columns</p>\n",
       "</div>"
      ],
      "text/plain": [
       "          Player Pos  Age   Tm   G  GS    MP   FG   FGA    FG%  ...  \\\n",
       "0     A.C. Green  PF   26  LAL  82  82  33.0  4.7   9.8  0.478  ...   \n",
       "1    Byron Scott  SG   28  LAL  77  77  33.7  6.1  13.1  0.470  ...   \n",
       "2   James Worthy  SF   28  LAL  80  80  37.0  8.9  16.2  0.548  ...   \n",
       "3  Jawann Oldham   C   32  LAL   6   0   7.5  0.5   1.0  0.500  ...   \n",
       "4    Jay Vincent  SF   30  LAL  41   6  11.2  2.1   4.5  0.470  ...   \n",
       "\n",
       "   Pos_PG-SG  Pos_SF  Pos_SF-C  Pos_SF-PF  Pos_SF-SG  Pos_SG  Pos_SG-PF  \\\n",
       "0          0       0         0          0          0       0          0   \n",
       "1          0       0         0          0          0       1          0   \n",
       "2          0       1         0          0          0       0          0   \n",
       "3          0       0         0          0          0       0          0   \n",
       "4          0       1         0          0          0       0          0   \n",
       "\n",
       "   Pos_SG-PG  Pos_SG-PG-SF  Pos_SG-SF  \n",
       "0          0             0          0  \n",
       "1          0             0          0  \n",
       "2          0             0          0  \n",
       "3          0             0          0  \n",
       "4          0             0          0  \n",
       "\n",
       "[5 rows x 58 columns]"
      ]
     },
     "execution_count": 15,
     "metadata": {},
     "output_type": "execute_result"
    }
   ],
   "source": [
    "stats_and_dum = stats.join(dummy_pos)\n",
    "stats_and_dum.head()"
   ]
  },
  {
   "cell_type": "markdown",
   "id": "31f945ab-34c5-4ac4-912c-3697a93a5116",
   "metadata": {},
   "source": [
    "#### 2.加入ratio变量"
   ]
  },
  {
   "cell_type": "raw",
   "id": "7a4db5b2-e534-4f96-9533-605ecc2dad7e",
   "metadata": {},
   "source": [
    "加入后效果不佳\n",
    "可直接注释，不影响后续代码运行"
   ]
  },
  {
   "cell_type": "code",
   "execution_count": 16,
   "id": "ba2ab583-2afd-43ee-8655-c7002582c2f5",
   "metadata": {},
   "outputs": [],
   "source": [
    "stats_and_dum[[\"PTS_R\", \"AST_R\", \"STL_R\", \"BLK_R\", \"3P_R\"]] = stats_and_dum.groupby(\"Year\")[[\"PTS\", \"AST\", \"STL\", \"BLK\", \"3P\"]].apply(lambda x: x/x.mean())"
   ]
  },
  {
   "cell_type": "code",
   "execution_count": 17,
   "id": "eb3f31e4-7505-4b5b-96e6-73e219137ac2",
   "metadata": {},
   "outputs": [],
   "source": [
    "new_predictor = [\"PTS_R\", \"AST_R\", \"STL_R\", \"BLK_R\", \"3P_R\"]\n",
    "predictors_and_dum += new_predictor"
   ]
  },
  {
   "cell_type": "markdown",
   "id": "3206f9c9-dae7-4ff7-bef2-e1759b827cc1",
   "metadata": {},
   "source": [
    "#### 3.划分 train/test"
   ]
  },
  {
   "cell_type": "code",
   "execution_count": 18,
   "id": "16164d75-4908-45e3-9f23-ebc2c8635b45",
   "metadata": {},
   "outputs": [],
   "source": [
    "train = stats_and_dum[~(stats_and_dum[\"Year\"] == pred_year)]\n",
    "test = stats_and_dum[stats_and_dum[\"Year\"] == pred_year]"
   ]
  },
  {
   "cell_type": "code",
   "execution_count": 19,
   "id": "bcc5f24b-a3de-4c6b-b8e2-d77105c636c5",
   "metadata": {},
   "outputs": [
    {
     "data": {
      "text/html": [
       "<div>\n",
       "<style scoped>\n",
       "    .dataframe tbody tr th:only-of-type {\n",
       "        vertical-align: middle;\n",
       "    }\n",
       "\n",
       "    .dataframe tbody tr th {\n",
       "        vertical-align: top;\n",
       "    }\n",
       "\n",
       "    .dataframe thead th {\n",
       "        text-align: right;\n",
       "    }\n",
       "</style>\n",
       "<table border=\"1\" class=\"dataframe\">\n",
       "  <thead>\n",
       "    <tr style=\"text-align: right;\">\n",
       "      <th></th>\n",
       "      <th>Player</th>\n",
       "      <th>Pos</th>\n",
       "      <th>Age</th>\n",
       "      <th>Tm</th>\n",
       "      <th>G</th>\n",
       "      <th>GS</th>\n",
       "      <th>MP</th>\n",
       "      <th>FG</th>\n",
       "      <th>FGA</th>\n",
       "      <th>FG%</th>\n",
       "      <th>...</th>\n",
       "      <th>Pos_SG</th>\n",
       "      <th>Pos_SG-PF</th>\n",
       "      <th>Pos_SG-PG</th>\n",
       "      <th>Pos_SG-PG-SF</th>\n",
       "      <th>Pos_SG-SF</th>\n",
       "      <th>PTS_R</th>\n",
       "      <th>AST_R</th>\n",
       "      <th>STL_R</th>\n",
       "      <th>BLK_R</th>\n",
       "      <th>3P_R</th>\n",
       "    </tr>\n",
       "  </thead>\n",
       "  <tbody>\n",
       "    <tr>\n",
       "      <th>0</th>\n",
       "      <td>A.C. Green</td>\n",
       "      <td>PF</td>\n",
       "      <td>26</td>\n",
       "      <td>LAL</td>\n",
       "      <td>82</td>\n",
       "      <td>82</td>\n",
       "      <td>33.0</td>\n",
       "      <td>4.7</td>\n",
       "      <td>9.8</td>\n",
       "      <td>0.478</td>\n",
       "      <td>...</td>\n",
       "      <td>0</td>\n",
       "      <td>0</td>\n",
       "      <td>0</td>\n",
       "      <td>0</td>\n",
       "      <td>0</td>\n",
       "      <td>1.446394</td>\n",
       "      <td>0.524403</td>\n",
       "      <td>1.101744</td>\n",
       "      <td>1.430189</td>\n",
       "      <td>1.129657</td>\n",
       "    </tr>\n",
       "    <tr>\n",
       "      <th>1</th>\n",
       "      <td>Byron Scott</td>\n",
       "      <td>SG</td>\n",
       "      <td>28</td>\n",
       "      <td>LAL</td>\n",
       "      <td>77</td>\n",
       "      <td>77</td>\n",
       "      <td>33.7</td>\n",
       "      <td>6.1</td>\n",
       "      <td>13.1</td>\n",
       "      <td>0.470</td>\n",
       "      <td>...</td>\n",
       "      <td>1</td>\n",
       "      <td>0</td>\n",
       "      <td>0</td>\n",
       "      <td>0</td>\n",
       "      <td>0</td>\n",
       "      <td>1.737915</td>\n",
       "      <td>1.716226</td>\n",
       "      <td>1.377180</td>\n",
       "      <td>0.953459</td>\n",
       "      <td>6.777943</td>\n",
       "    </tr>\n",
       "    <tr>\n",
       "      <th>2</th>\n",
       "      <td>James Worthy</td>\n",
       "      <td>SF</td>\n",
       "      <td>28</td>\n",
       "      <td>LAL</td>\n",
       "      <td>80</td>\n",
       "      <td>80</td>\n",
       "      <td>37.0</td>\n",
       "      <td>8.9</td>\n",
       "      <td>16.2</td>\n",
       "      <td>0.548</td>\n",
       "      <td>...</td>\n",
       "      <td>0</td>\n",
       "      <td>0</td>\n",
       "      <td>0</td>\n",
       "      <td>0</td>\n",
       "      <td>0</td>\n",
       "      <td>2.365807</td>\n",
       "      <td>1.716226</td>\n",
       "      <td>1.652616</td>\n",
       "      <td>1.430189</td>\n",
       "      <td>1.129657</td>\n",
       "    </tr>\n",
       "    <tr>\n",
       "      <th>3</th>\n",
       "      <td>Jawann Oldham</td>\n",
       "      <td>C</td>\n",
       "      <td>32</td>\n",
       "      <td>LAL</td>\n",
       "      <td>6</td>\n",
       "      <td>0</td>\n",
       "      <td>7.5</td>\n",
       "      <td>0.5</td>\n",
       "      <td>1.0</td>\n",
       "      <td>0.500</td>\n",
       "      <td>...</td>\n",
       "      <td>0</td>\n",
       "      <td>0</td>\n",
       "      <td>0</td>\n",
       "      <td>0</td>\n",
       "      <td>0</td>\n",
       "      <td>0.168185</td>\n",
       "      <td>0.095346</td>\n",
       "      <td>0.413154</td>\n",
       "      <td>1.191824</td>\n",
       "      <td>0.000000</td>\n",
       "    </tr>\n",
       "    <tr>\n",
       "      <th>4</th>\n",
       "      <td>Jay Vincent</td>\n",
       "      <td>SF</td>\n",
       "      <td>30</td>\n",
       "      <td>LAL</td>\n",
       "      <td>41</td>\n",
       "      <td>6</td>\n",
       "      <td>11.2</td>\n",
       "      <td>2.1</td>\n",
       "      <td>4.5</td>\n",
       "      <td>0.470</td>\n",
       "      <td>...</td>\n",
       "      <td>0</td>\n",
       "      <td>0</td>\n",
       "      <td>0</td>\n",
       "      <td>0</td>\n",
       "      <td>0</td>\n",
       "      <td>0.583042</td>\n",
       "      <td>0.190692</td>\n",
       "      <td>0.550872</td>\n",
       "      <td>0.238365</td>\n",
       "      <td>0.000000</td>\n",
       "    </tr>\n",
       "  </tbody>\n",
       "</table>\n",
       "<p>5 rows × 63 columns</p>\n",
       "</div>"
      ],
      "text/plain": [
       "          Player Pos  Age   Tm   G  GS    MP   FG   FGA    FG%  ...  Pos_SG  \\\n",
       "0     A.C. Green  PF   26  LAL  82  82  33.0  4.7   9.8  0.478  ...       0   \n",
       "1    Byron Scott  SG   28  LAL  77  77  33.7  6.1  13.1  0.470  ...       1   \n",
       "2   James Worthy  SF   28  LAL  80  80  37.0  8.9  16.2  0.548  ...       0   \n",
       "3  Jawann Oldham   C   32  LAL   6   0   7.5  0.5   1.0  0.500  ...       0   \n",
       "4    Jay Vincent  SF   30  LAL  41   6  11.2  2.1   4.5  0.470  ...       0   \n",
       "\n",
       "   Pos_SG-PF  Pos_SG-PG  Pos_SG-PG-SF  Pos_SG-SF     PTS_R     AST_R  \\\n",
       "0          0          0             0          0  1.446394  0.524403   \n",
       "1          0          0             0          0  1.737915  1.716226   \n",
       "2          0          0             0          0  2.365807  1.716226   \n",
       "3          0          0             0          0  0.168185  0.095346   \n",
       "4          0          0             0          0  0.583042  0.190692   \n",
       "\n",
       "      STL_R     BLK_R      3P_R  \n",
       "0  1.101744  1.430189  1.129657  \n",
       "1  1.377180  0.953459  6.777943  \n",
       "2  1.652616  1.430189  1.129657  \n",
       "3  0.413154  1.191824  0.000000  \n",
       "4  0.550872  0.238365  0.000000  \n",
       "\n",
       "[5 rows x 63 columns]"
      ]
     },
     "execution_count": 19,
     "metadata": {},
     "output_type": "execute_result"
    }
   ],
   "source": [
    "train.head()"
   ]
  },
  {
   "cell_type": "code",
   "execution_count": 20,
   "id": "6af16418-649d-4eed-a8d7-fa89e2c0e687",
   "metadata": {},
   "outputs": [],
   "source": [
    "train_x = train[predictors_and_dum]\n",
    "train_y = train[\"Share\"]\n",
    "\n",
    "test_x = test[predictors_and_dum]\n",
    "test_y = test[\"Share\"]"
   ]
  },
  {
   "cell_type": "markdown",
   "id": "2f7bbae7-d028-4196-80e1-b96923c6a4f9",
   "metadata": {},
   "source": [
    "## 2.机器学习预测"
   ]
  },
  {
   "cell_type": "code",
   "execution_count": 21,
   "id": "bd8873e8-f8a7-4bcb-9034-e4ab90cbae9c",
   "metadata": {},
   "outputs": [
    {
     "name": "stderr",
     "output_type": "stream",
     "text": [
      "C:\\Users\\jyq\\AppData\\Roaming\\Python\\Python39\\site-packages\\xgboost\\compat.py:36: FutureWarning: pandas.Int64Index is deprecated and will be removed from pandas in a future version. Use pandas.Index with the appropriate dtype instead.\n",
      "  from pandas import MultiIndex, Int64Index\n"
     ]
    }
   ],
   "source": [
    "from sklearn.linear_model import Ridge\n",
    "from sklearn.ensemble import RandomForestRegressor\n",
    "from xgboost import XGBRegressor\n",
    "import xgboost as xgb\n",
    "\n",
    "from sklearn.metrics import mean_squared_error"
   ]
  },
  {
   "cell_type": "markdown",
   "id": "8c30bc06-ada9-4bbc-b888-b45ffb19d731",
   "metadata": {},
   "source": [
    "### 1.定义工具"
   ]
  },
  {
   "cell_type": "code",
   "execution_count": 22,
   "id": "744a0c39-15c1-4643-989e-c502937dfb46",
   "metadata": {},
   "outputs": [],
   "source": [
    "## 展示预测结果\n",
    "def show_pre_table(mvp_prediction):\n",
    "    pd_mvp_pred = pd.DataFrame(mvp_prediction, columns=[\"predictions\"], index=test_y.index)\n",
    "    combinations = pd.concat([test[[\"Player\",\"Share\"]],pd_mvp_pred], axis=1)\n",
    "    \n",
    "    actual = combinations.sort_values(\"Share\", ascending=False)\n",
    "    predicted = combinations.sort_values(\"predictions\", ascending=False)\n",
    "    actual[\"Rk\"] = list(range(1,actual.shape[0]+1))\n",
    "    predicted[\"Predicted_Rk\"] = list(range(1,predicted.shape[0]+1))\n",
    "\n",
    "    pred_table = actual.merge(predicted, on=\"Player\")\n",
    "    \n",
    "    #删除多余的列并修改列名\n",
    "    del pred_table[\"Share_y\"]\n",
    "    del pred_table[\"predictions_y\"]\n",
    "    pred_table.rename(columns={'Share_x':'Share', 'predictions_x':'predictions'}, inplace=True)\n",
    "    \n",
    "    pred_table[\"Rk_diff\"] = pred_table[\"Rk\"] - pred_table[\"Predicted_Rk\"]\n",
    "    \n",
    "    return pred_table   "
   ]
  },
  {
   "cell_type": "code",
   "execution_count": 23,
   "id": "1f4fa069-7917-4c9e-9a3f-a0c0d353cd70",
   "metadata": {},
   "outputs": [],
   "source": [
    "'''\n",
    "展示预测误差\n",
    "1.不指定topn时，计算全部误差\n",
    "2.指定topn时，计算前实际前十的误差\n",
    "'''\n",
    "def show_mse_error(pred_table,topn = 0):\n",
    "    if topn == 0:\n",
    "        mse = mean_squared_error(pred_table[\"Share\"], pred_table[\"predictions\"])\n",
    "    else:\n",
    "        topN = pred_table.iloc[:10,:]\n",
    "        mse = mean_squared_error(topN[\"Share\"], topN[\"predictions\"])\n",
    "        \n",
    "    return mse"
   ]
  },
  {
   "cell_type": "markdown",
   "id": "acb19a72-a0b9-4996-acf5-c2e3eb2f2194",
   "metadata": {},
   "source": [
    "### 2.使用岭回归预测"
   ]
  },
  {
   "cell_type": "code",
   "execution_count": 24,
   "id": "f8f347f4-c614-418f-b051-c086179f1a19",
   "metadata": {
    "tags": []
   },
   "outputs": [
    {
     "data": {
      "text/plain": [
       "Ridge(alpha=0.1)"
      ]
     },
     "execution_count": 24,
     "metadata": {},
     "output_type": "execute_result"
    }
   ],
   "source": [
    "reg = Ridge(alpha=0.1)\n",
    "reg.fit(train_x, train_y)"
   ]
  },
  {
   "cell_type": "code",
   "execution_count": 25,
   "id": "3eb40451-5cab-4d43-bc8f-303153660d91",
   "metadata": {},
   "outputs": [],
   "source": [
    "mvp_pred_reg = reg.predict(test_x)"
   ]
  },
  {
   "cell_type": "code",
   "execution_count": 26,
   "id": "a8c29937-cdca-4ffd-adf6-246c8ce54c8e",
   "metadata": {},
   "outputs": [
    {
     "data": {
      "text/html": [
       "<div>\n",
       "<style scoped>\n",
       "    .dataframe tbody tr th:only-of-type {\n",
       "        vertical-align: middle;\n",
       "    }\n",
       "\n",
       "    .dataframe tbody tr th {\n",
       "        vertical-align: top;\n",
       "    }\n",
       "\n",
       "    .dataframe thead th {\n",
       "        text-align: right;\n",
       "    }\n",
       "</style>\n",
       "<table border=\"1\" class=\"dataframe\">\n",
       "  <thead>\n",
       "    <tr style=\"text-align: right;\">\n",
       "      <th></th>\n",
       "      <th>Player</th>\n",
       "      <th>Share</th>\n",
       "      <th>predictions</th>\n",
       "      <th>Rk</th>\n",
       "      <th>Predicted_Rk</th>\n",
       "      <th>Rk_diff</th>\n",
       "    </tr>\n",
       "  </thead>\n",
       "  <tbody>\n",
       "    <tr>\n",
       "      <th>0</th>\n",
       "      <td>Giannis Antetokounmpo</td>\n",
       "      <td>0.932</td>\n",
       "      <td>0.204789</td>\n",
       "      <td>1</td>\n",
       "      <td>1</td>\n",
       "      <td>0</td>\n",
       "    </tr>\n",
       "    <tr>\n",
       "      <th>1</th>\n",
       "      <td>James Harden</td>\n",
       "      <td>0.768</td>\n",
       "      <td>0.162068</td>\n",
       "      <td>2</td>\n",
       "      <td>3</td>\n",
       "      <td>-1</td>\n",
       "    </tr>\n",
       "    <tr>\n",
       "      <th>2</th>\n",
       "      <td>Paul George</td>\n",
       "      <td>0.352</td>\n",
       "      <td>0.096896</td>\n",
       "      <td>3</td>\n",
       "      <td>10</td>\n",
       "      <td>-7</td>\n",
       "    </tr>\n",
       "    <tr>\n",
       "      <th>3</th>\n",
       "      <td>Nikola Jokić</td>\n",
       "      <td>0.210</td>\n",
       "      <td>0.105253</td>\n",
       "      <td>4</td>\n",
       "      <td>9</td>\n",
       "      <td>-5</td>\n",
       "    </tr>\n",
       "    <tr>\n",
       "      <th>4</th>\n",
       "      <td>Stephen Curry</td>\n",
       "      <td>0.173</td>\n",
       "      <td>0.085987</td>\n",
       "      <td>5</td>\n",
       "      <td>13</td>\n",
       "      <td>-8</td>\n",
       "    </tr>\n",
       "    <tr>\n",
       "      <th>5</th>\n",
       "      <td>Damian Lillard</td>\n",
       "      <td>0.068</td>\n",
       "      <td>0.081624</td>\n",
       "      <td>6</td>\n",
       "      <td>17</td>\n",
       "      <td>-11</td>\n",
       "    </tr>\n",
       "    <tr>\n",
       "      <th>6</th>\n",
       "      <td>Joel Embiid</td>\n",
       "      <td>0.049</td>\n",
       "      <td>0.145034</td>\n",
       "      <td>7</td>\n",
       "      <td>4</td>\n",
       "      <td>3</td>\n",
       "    </tr>\n",
       "    <tr>\n",
       "      <th>7</th>\n",
       "      <td>Kevin Durant</td>\n",
       "      <td>0.025</td>\n",
       "      <td>0.122452</td>\n",
       "      <td>8</td>\n",
       "      <td>6</td>\n",
       "      <td>2</td>\n",
       "    </tr>\n",
       "    <tr>\n",
       "      <th>8</th>\n",
       "      <td>Kawhi Leonard</td>\n",
       "      <td>0.013</td>\n",
       "      <td>0.114413</td>\n",
       "      <td>9</td>\n",
       "      <td>8</td>\n",
       "      <td>1</td>\n",
       "    </tr>\n",
       "    <tr>\n",
       "      <th>9</th>\n",
       "      <td>Russell Westbrook</td>\n",
       "      <td>0.008</td>\n",
       "      <td>0.116862</td>\n",
       "      <td>10</td>\n",
       "      <td>7</td>\n",
       "      <td>3</td>\n",
       "    </tr>\n",
       "  </tbody>\n",
       "</table>\n",
       "</div>"
      ],
      "text/plain": [
       "                  Player  Share  predictions  Rk  Predicted_Rk  Rk_diff\n",
       "0  Giannis Antetokounmpo  0.932     0.204789   1             1        0\n",
       "1           James Harden  0.768     0.162068   2             3       -1\n",
       "2            Paul George  0.352     0.096896   3            10       -7\n",
       "3           Nikola Jokić  0.210     0.105253   4             9       -5\n",
       "4          Stephen Curry  0.173     0.085987   5            13       -8\n",
       "5         Damian Lillard  0.068     0.081624   6            17      -11\n",
       "6            Joel Embiid  0.049     0.145034   7             4        3\n",
       "7           Kevin Durant  0.025     0.122452   8             6        2\n",
       "8          Kawhi Leonard  0.013     0.114413   9             8        1\n",
       "9      Russell Westbrook  0.008     0.116862  10             7        3"
      ]
     },
     "execution_count": 26,
     "metadata": {},
     "output_type": "execute_result"
    }
   ],
   "source": [
    "reg_tb = show_pre_table(mvp_pred_reg)\n",
    "reg_tb.head(10)"
   ]
  },
  {
   "cell_type": "code",
   "execution_count": 27,
   "id": "b417eb24-16ba-4c99-be03-7fada3d81312",
   "metadata": {},
   "outputs": [
    {
     "data": {
      "text/plain": [
       "0.000    518\n",
       "0.001      2\n",
       "0.932      1\n",
       "0.768      1\n",
       "0.352      1\n",
       "0.210      1\n",
       "0.173      1\n",
       "0.068      1\n",
       "0.049      1\n",
       "0.025      1\n",
       "0.013      1\n",
       "0.008      1\n",
       "Name: Share, dtype: int64"
      ]
     },
     "execution_count": 27,
     "metadata": {},
     "output_type": "execute_result"
    }
   ],
   "source": [
    "reg_tb[\"Share\"].value_counts()"
   ]
  },
  {
   "cell_type": "raw",
   "id": "76caac4d-39af-4065-b5e4-15498ad536bc",
   "metadata": {},
   "source": [
    "大多数球员没有mvp评分，在评估/训练时可尝试删去"
   ]
  },
  {
   "cell_type": "code",
   "execution_count": 28,
   "id": "2e979345-0865-44c7-9fcb-fd0c3da4f0f7",
   "metadata": {},
   "outputs": [
    {
     "data": {
      "text/plain": [
       "0.10206516412345334"
      ]
     },
     "execution_count": 28,
     "metadata": {},
     "output_type": "execute_result"
    }
   ],
   "source": [
    "show_mse_error(reg_tb,10)"
   ]
  },
  {
   "cell_type": "raw",
   "id": "a1578893-bb4c-4029-a472-02e1d75ae708",
   "metadata": {},
   "source": [
    "模型效果不理想，需进一步改进"
   ]
  },
  {
   "cell_type": "markdown",
   "id": "8c5feffa-442b-4836-8bc1-d81011a77268",
   "metadata": {},
   "source": [
    "### 3.使用随机森林预测"
   ]
  },
  {
   "cell_type": "code",
   "execution_count": 29,
   "id": "66ea44f4-4463-4e8d-81bc-bb823f9645f0",
   "metadata": {},
   "outputs": [
    {
     "data": {
      "text/plain": [
       "RandomForestRegressor(min_samples_split=5, n_estimators=300, random_state=1)"
      ]
     },
     "execution_count": 29,
     "metadata": {},
     "output_type": "execute_result"
    }
   ],
   "source": [
    "rf = RandomForestRegressor(n_estimators=300, random_state=1, min_samples_split=5)\n",
    "rf.fit(train_x,train_y)"
   ]
  },
  {
   "cell_type": "code",
   "execution_count": 30,
   "id": "f4e320ba-b77c-4d46-9cb9-7fdaac39f1d1",
   "metadata": {},
   "outputs": [],
   "source": [
    "mvp_pred_rf = rf.predict(test_x)"
   ]
  },
  {
   "cell_type": "code",
   "execution_count": 31,
   "id": "c7d698cd-f486-4381-91e6-68abbcf4f9bb",
   "metadata": {},
   "outputs": [
    {
     "data": {
      "text/html": [
       "<div>\n",
       "<style scoped>\n",
       "    .dataframe tbody tr th:only-of-type {\n",
       "        vertical-align: middle;\n",
       "    }\n",
       "\n",
       "    .dataframe tbody tr th {\n",
       "        vertical-align: top;\n",
       "    }\n",
       "\n",
       "    .dataframe thead th {\n",
       "        text-align: right;\n",
       "    }\n",
       "</style>\n",
       "<table border=\"1\" class=\"dataframe\">\n",
       "  <thead>\n",
       "    <tr style=\"text-align: right;\">\n",
       "      <th></th>\n",
       "      <th>Player</th>\n",
       "      <th>Share</th>\n",
       "      <th>predictions</th>\n",
       "      <th>Rk</th>\n",
       "      <th>Predicted_Rk</th>\n",
       "      <th>Rk_diff</th>\n",
       "    </tr>\n",
       "  </thead>\n",
       "  <tbody>\n",
       "    <tr>\n",
       "      <th>0</th>\n",
       "      <td>Giannis Antetokounmpo</td>\n",
       "      <td>0.932</td>\n",
       "      <td>0.528283</td>\n",
       "      <td>1</td>\n",
       "      <td>1</td>\n",
       "      <td>0</td>\n",
       "    </tr>\n",
       "    <tr>\n",
       "      <th>1</th>\n",
       "      <td>James Harden</td>\n",
       "      <td>0.768</td>\n",
       "      <td>0.523160</td>\n",
       "      <td>2</td>\n",
       "      <td>2</td>\n",
       "      <td>0</td>\n",
       "    </tr>\n",
       "    <tr>\n",
       "      <th>2</th>\n",
       "      <td>Paul George</td>\n",
       "      <td>0.352</td>\n",
       "      <td>0.101033</td>\n",
       "      <td>3</td>\n",
       "      <td>7</td>\n",
       "      <td>-4</td>\n",
       "    </tr>\n",
       "    <tr>\n",
       "      <th>3</th>\n",
       "      <td>Nikola Jokić</td>\n",
       "      <td>0.210</td>\n",
       "      <td>0.027341</td>\n",
       "      <td>4</td>\n",
       "      <td>13</td>\n",
       "      <td>-9</td>\n",
       "    </tr>\n",
       "    <tr>\n",
       "      <th>4</th>\n",
       "      <td>Stephen Curry</td>\n",
       "      <td>0.173</td>\n",
       "      <td>0.292178</td>\n",
       "      <td>5</td>\n",
       "      <td>4</td>\n",
       "      <td>1</td>\n",
       "    </tr>\n",
       "    <tr>\n",
       "      <th>5</th>\n",
       "      <td>Damian Lillard</td>\n",
       "      <td>0.068</td>\n",
       "      <td>0.072073</td>\n",
       "      <td>6</td>\n",
       "      <td>10</td>\n",
       "      <td>-4</td>\n",
       "    </tr>\n",
       "    <tr>\n",
       "      <th>6</th>\n",
       "      <td>Joel Embiid</td>\n",
       "      <td>0.049</td>\n",
       "      <td>0.351017</td>\n",
       "      <td>7</td>\n",
       "      <td>3</td>\n",
       "      <td>4</td>\n",
       "    </tr>\n",
       "    <tr>\n",
       "      <th>7</th>\n",
       "      <td>Kevin Durant</td>\n",
       "      <td>0.025</td>\n",
       "      <td>0.246741</td>\n",
       "      <td>8</td>\n",
       "      <td>6</td>\n",
       "      <td>2</td>\n",
       "    </tr>\n",
       "    <tr>\n",
       "      <th>8</th>\n",
       "      <td>Kawhi Leonard</td>\n",
       "      <td>0.013</td>\n",
       "      <td>0.264778</td>\n",
       "      <td>9</td>\n",
       "      <td>5</td>\n",
       "      <td>4</td>\n",
       "    </tr>\n",
       "    <tr>\n",
       "      <th>9</th>\n",
       "      <td>Russell Westbrook</td>\n",
       "      <td>0.008</td>\n",
       "      <td>0.081175</td>\n",
       "      <td>10</td>\n",
       "      <td>9</td>\n",
       "      <td>1</td>\n",
       "    </tr>\n",
       "  </tbody>\n",
       "</table>\n",
       "</div>"
      ],
      "text/plain": [
       "                  Player  Share  predictions  Rk  Predicted_Rk  Rk_diff\n",
       "0  Giannis Antetokounmpo  0.932     0.528283   1             1        0\n",
       "1           James Harden  0.768     0.523160   2             2        0\n",
       "2            Paul George  0.352     0.101033   3             7       -4\n",
       "3           Nikola Jokić  0.210     0.027341   4            13       -9\n",
       "4          Stephen Curry  0.173     0.292178   5             4        1\n",
       "5         Damian Lillard  0.068     0.072073   6            10       -4\n",
       "6            Joel Embiid  0.049     0.351017   7             3        4\n",
       "7           Kevin Durant  0.025     0.246741   8             6        2\n",
       "8          Kawhi Leonard  0.013     0.264778   9             5        4\n",
       "9      Russell Westbrook  0.008     0.081175  10             9        1"
      ]
     },
     "execution_count": 31,
     "metadata": {},
     "output_type": "execute_result"
    }
   ],
   "source": [
    "rf_tb = show_pre_table(mvp_pred_rf)\n",
    "rf_tb.head(10)"
   ]
  },
  {
   "cell_type": "code",
   "execution_count": 32,
   "id": "76a2d053-f331-4658-b837-4117d13c6fc4",
   "metadata": {},
   "outputs": [
    {
     "data": {
      "text/plain": [
       "0.001051821341317017"
      ]
     },
     "execution_count": 32,
     "metadata": {},
     "output_type": "execute_result"
    }
   ],
   "source": [
    "show_mse_error(rf_tb)"
   ]
  },
  {
   "cell_type": "markdown",
   "id": "5d0f48cc-57eb-4ed9-a58e-9625775a3682",
   "metadata": {},
   "source": [
    "#### 1.变量重要性"
   ]
  },
  {
   "cell_type": "code",
   "execution_count": 33,
   "id": "caeb593c-57c8-474d-bf1b-4ee560d0d6b4",
   "metadata": {},
   "outputs": [
    {
     "data": {
      "text/plain": [
       "<AxesSubplot:>"
      ]
     },
     "execution_count": 33,
     "metadata": {},
     "output_type": "execute_result"
    },
    {
     "data": {
      "image/png": "[encoded data removed]",
      "text/plain": [
       "<Figure size 864x864 with 1 Axes>"
      ]
     },
     "metadata": {
      "needs_background": "light"
     },
     "output_type": "display_data"
    }
   ],
   "source": [
    "importance_rf = pd.Series(rf.feature_importances_, index=test_x.columns)\n",
    "sorted_importance_rf = importance_rf.sort_values()\n",
    "\n",
    "sorted_importance_rf.plot(kind=\"barh\",color='lightgreen',figsize=([12,12]))"
   ]
  },
  {
   "cell_type": "markdown",
   "id": "06206d06-ec53-4cf1-868d-93453d9e155a",
   "metadata": {},
   "source": [
    "#### 2.GridCVSearch"
   ]
  },
  {
   "cell_type": "code",
   "execution_count": 34,
   "id": "aa674f87-9455-4c9e-9e93-937ee669ed34",
   "metadata": {},
   "outputs": [],
   "source": [
    "from sklearn.model_selection import GridSearchCV"
   ]
  },
  {
   "cell_type": "code",
   "execution_count": 35,
   "id": "1303a4df-4efc-4aba-b745-c07f60be0289",
   "metadata": {},
   "outputs": [],
   "source": [
    "rf_grid = RandomForestRegressor()\n",
    "\n",
    "params_dt = {\n",
    "    'max_depth': [3,4,5,6],\n",
    "    'min_samples_leaf' : [0.04, 0.06, 0.08],\n",
    "    'max_features' : [0.2, 0.4, 0.6, 0.8]\n",
    "}"
   ]
  },
  {
   "cell_type": "code",
   "execution_count": 36,
   "id": "0f07a3ec-e489-4382-8f3a-a99c5e01af5b",
   "metadata": {},
   "outputs": [],
   "source": [
    "grid_dt = GridSearchCV(estimator=rf_grid,\n",
    "                      param_grid=params_dt,\n",
    "                      scoring=\"neg_mean_squared_error\",\n",
    "                      cv=5,\n",
    "                      n_jobs=-1)"
   ]
  },
  {
   "cell_type": "code",
   "execution_count": 37,
   "id": "ba08a83e-cba7-4cbc-a4bf-ec594fe98444",
   "metadata": {},
   "outputs": [
    {
     "data": {
      "text/plain": [
       "GridSearchCV(cv=5, estimator=RandomForestRegressor(), n_jobs=-1,\n",
       "             param_grid={'max_depth': [3, 4, 5, 6],\n",
       "                         'max_features': [0.2, 0.4, 0.6, 0.8],\n",
       "                         'min_samples_leaf': [0.04, 0.06, 0.08]},\n",
       "             scoring='neg_mean_squared_error')"
      ]
     },
     "execution_count": 37,
     "metadata": {},
     "output_type": "execute_result"
    }
   ],
   "source": [
    "grid_dt.fit(train_x,train_y)"
   ]
  },
  {
   "cell_type": "code",
   "execution_count": 38,
   "id": "99d4fb8e-7fc2-4805-bd62-10e665fc09f6",
   "metadata": {},
   "outputs": [
    {
     "data": {
      "text/plain": [
       "{'max_depth': 3, 'max_features': 0.4, 'min_samples_leaf': 0.04}"
      ]
     },
     "execution_count": 38,
     "metadata": {},
     "output_type": "execute_result"
    }
   ],
   "source": [
    "grid_dt.best_params_"
   ]
  },
  {
   "cell_type": "code",
   "execution_count": 39,
   "id": "f36f221c-84ad-4195-9fb5-006bacd02011",
   "metadata": {},
   "outputs": [
    {
     "data": {
      "text/html": [
       "<div>\n",
       "<style scoped>\n",
       "    .dataframe tbody tr th:only-of-type {\n",
       "        vertical-align: middle;\n",
       "    }\n",
       "\n",
       "    .dataframe tbody tr th {\n",
       "        vertical-align: top;\n",
       "    }\n",
       "\n",
       "    .dataframe thead th {\n",
       "        text-align: right;\n",
       "    }\n",
       "</style>\n",
       "<table border=\"1\" class=\"dataframe\">\n",
       "  <thead>\n",
       "    <tr style=\"text-align: right;\">\n",
       "      <th></th>\n",
       "      <th>Player</th>\n",
       "      <th>Share</th>\n",
       "      <th>predictions</th>\n",
       "      <th>Rk</th>\n",
       "      <th>Predicted_Rk</th>\n",
       "      <th>Rk_diff</th>\n",
       "    </tr>\n",
       "  </thead>\n",
       "  <tbody>\n",
       "    <tr>\n",
       "      <th>0</th>\n",
       "      <td>Giannis Antetokounmpo</td>\n",
       "      <td>0.932</td>\n",
       "      <td>0.081361</td>\n",
       "      <td>1</td>\n",
       "      <td>3</td>\n",
       "      <td>-2</td>\n",
       "    </tr>\n",
       "    <tr>\n",
       "      <th>1</th>\n",
       "      <td>James Harden</td>\n",
       "      <td>0.768</td>\n",
       "      <td>0.080700</td>\n",
       "      <td>2</td>\n",
       "      <td>7</td>\n",
       "      <td>-5</td>\n",
       "    </tr>\n",
       "    <tr>\n",
       "      <th>2</th>\n",
       "      <td>Paul George</td>\n",
       "      <td>0.352</td>\n",
       "      <td>0.080563</td>\n",
       "      <td>3</td>\n",
       "      <td>10</td>\n",
       "      <td>-7</td>\n",
       "    </tr>\n",
       "    <tr>\n",
       "      <th>3</th>\n",
       "      <td>Nikola Jokić</td>\n",
       "      <td>0.210</td>\n",
       "      <td>0.063490</td>\n",
       "      <td>4</td>\n",
       "      <td>32</td>\n",
       "      <td>-28</td>\n",
       "    </tr>\n",
       "    <tr>\n",
       "      <th>4</th>\n",
       "      <td>Stephen Curry</td>\n",
       "      <td>0.173</td>\n",
       "      <td>0.070320</td>\n",
       "      <td>5</td>\n",
       "      <td>25</td>\n",
       "      <td>-20</td>\n",
       "    </tr>\n",
       "    <tr>\n",
       "      <th>5</th>\n",
       "      <td>Damian Lillard</td>\n",
       "      <td>0.068</td>\n",
       "      <td>0.080519</td>\n",
       "      <td>6</td>\n",
       "      <td>13</td>\n",
       "      <td>-7</td>\n",
       "    </tr>\n",
       "    <tr>\n",
       "      <th>6</th>\n",
       "      <td>Joel Embiid</td>\n",
       "      <td>0.049</td>\n",
       "      <td>0.081361</td>\n",
       "      <td>7</td>\n",
       "      <td>2</td>\n",
       "      <td>5</td>\n",
       "    </tr>\n",
       "    <tr>\n",
       "      <th>7</th>\n",
       "      <td>Kevin Durant</td>\n",
       "      <td>0.025</td>\n",
       "      <td>0.081361</td>\n",
       "      <td>8</td>\n",
       "      <td>1</td>\n",
       "      <td>7</td>\n",
       "    </tr>\n",
       "    <tr>\n",
       "      <th>8</th>\n",
       "      <td>Kawhi Leonard</td>\n",
       "      <td>0.013</td>\n",
       "      <td>0.080270</td>\n",
       "      <td>9</td>\n",
       "      <td>14</td>\n",
       "      <td>-5</td>\n",
       "    </tr>\n",
       "    <tr>\n",
       "      <th>9</th>\n",
       "      <td>Russell Westbrook</td>\n",
       "      <td>0.008</td>\n",
       "      <td>0.080680</td>\n",
       "      <td>10</td>\n",
       "      <td>9</td>\n",
       "      <td>1</td>\n",
       "    </tr>\n",
       "    <tr>\n",
       "      <th>10</th>\n",
       "      <td>Rudy Gobert</td>\n",
       "      <td>0.001</td>\n",
       "      <td>0.012939</td>\n",
       "      <td>11</td>\n",
       "      <td>42</td>\n",
       "      <td>-31</td>\n",
       "    </tr>\n",
       "    <tr>\n",
       "      <th>11</th>\n",
       "      <td>LeBron James</td>\n",
       "      <td>0.001</td>\n",
       "      <td>0.081361</td>\n",
       "      <td>12</td>\n",
       "      <td>4</td>\n",
       "      <td>8</td>\n",
       "    </tr>\n",
       "    <tr>\n",
       "      <th>12</th>\n",
       "      <td>J.P. Macura</td>\n",
       "      <td>0.000</td>\n",
       "      <td>0.000006</td>\n",
       "      <td>13</td>\n",
       "      <td>266</td>\n",
       "      <td>-253</td>\n",
       "    </tr>\n",
       "    <tr>\n",
       "      <th>13</th>\n",
       "      <td>Frank Kaminsky</td>\n",
       "      <td>0.000</td>\n",
       "      <td>0.000006</td>\n",
       "      <td>14</td>\n",
       "      <td>265</td>\n",
       "      <td>-251</td>\n",
       "    </tr>\n",
       "    <tr>\n",
       "      <th>14</th>\n",
       "      <td>Jeremy Lamb</td>\n",
       "      <td>0.000</td>\n",
       "      <td>0.000321</td>\n",
       "      <td>15</td>\n",
       "      <td>125</td>\n",
       "      <td>-110</td>\n",
       "    </tr>\n",
       "    <tr>\n",
       "      <th>15</th>\n",
       "      <td>Dwayne Bacon</td>\n",
       "      <td>0.000</td>\n",
       "      <td>0.000006</td>\n",
       "      <td>16</td>\n",
       "      <td>264</td>\n",
       "      <td>-248</td>\n",
       "    </tr>\n",
       "    <tr>\n",
       "      <th>16</th>\n",
       "      <td>Devonte' Graham</td>\n",
       "      <td>0.000</td>\n",
       "      <td>0.000006</td>\n",
       "      <td>17</td>\n",
       "      <td>263</td>\n",
       "      <td>-246</td>\n",
       "    </tr>\n",
       "    <tr>\n",
       "      <th>17</th>\n",
       "      <td>Cody Zeller</td>\n",
       "      <td>0.000</td>\n",
       "      <td>0.000006</td>\n",
       "      <td>18</td>\n",
       "      <td>262</td>\n",
       "      <td>-244</td>\n",
       "    </tr>\n",
       "    <tr>\n",
       "      <th>18</th>\n",
       "      <td>Bismack Biyombo</td>\n",
       "      <td>0.000</td>\n",
       "      <td>0.000006</td>\n",
       "      <td>19</td>\n",
       "      <td>261</td>\n",
       "      <td>-242</td>\n",
       "    </tr>\n",
       "    <tr>\n",
       "      <th>19</th>\n",
       "      <td>Yante Maten</td>\n",
       "      <td>0.000</td>\n",
       "      <td>0.000006</td>\n",
       "      <td>20</td>\n",
       "      <td>260</td>\n",
       "      <td>-240</td>\n",
       "    </tr>\n",
       "  </tbody>\n",
       "</table>\n",
       "</div>"
      ],
      "text/plain": [
       "                   Player  Share  predictions  Rk  Predicted_Rk  Rk_diff\n",
       "0   Giannis Antetokounmpo  0.932     0.081361   1             3       -2\n",
       "1            James Harden  0.768     0.080700   2             7       -5\n",
       "2             Paul George  0.352     0.080563   3            10       -7\n",
       "3            Nikola Jokić  0.210     0.063490   4            32      -28\n",
       "4           Stephen Curry  0.173     0.070320   5            25      -20\n",
       "5          Damian Lillard  0.068     0.080519   6            13       -7\n",
       "6             Joel Embiid  0.049     0.081361   7             2        5\n",
       "7            Kevin Durant  0.025     0.081361   8             1        7\n",
       "8           Kawhi Leonard  0.013     0.080270   9            14       -5\n",
       "9       Russell Westbrook  0.008     0.080680  10             9        1\n",
       "10            Rudy Gobert  0.001     0.012939  11            42      -31\n",
       "11           LeBron James  0.001     0.081361  12             4        8\n",
       "12            J.P. Macura  0.000     0.000006  13           266     -253\n",
       "13         Frank Kaminsky  0.000     0.000006  14           265     -251\n",
       "14            Jeremy Lamb  0.000     0.000321  15           125     -110\n",
       "15           Dwayne Bacon  0.000     0.000006  16           264     -248\n",
       "16        Devonte' Graham  0.000     0.000006  17           263     -246\n",
       "17            Cody Zeller  0.000     0.000006  18           262     -244\n",
       "18        Bismack Biyombo  0.000     0.000006  19           261     -242\n",
       "19            Yante Maten  0.000     0.000006  20           260     -240"
      ]
     },
     "execution_count": 39,
     "metadata": {},
     "output_type": "execute_result"
    }
   ],
   "source": [
    "grid_rf_mvp =  grid_dt.predict(test_x)\n",
    "grid_rf_tb = show_pre_table(grid_rf_mvp)\n",
    "grid_rf_tb.head(20)"
   ]
  },
  {
   "cell_type": "code",
   "execution_count": 40,
   "id": "9005dd1d-024c-4e76-b084-a59526fb8391",
   "metadata": {},
   "outputs": [
    {
     "data": {
      "text/plain": [
       "0.0027468409061428478"
      ]
     },
     "execution_count": 40,
     "metadata": {},
     "output_type": "execute_result"
    }
   ],
   "source": [
    "show_mse_error(grid_rf_tb)"
   ]
  },
  {
   "cell_type": "markdown",
   "id": "3f12c636-c020-4337-8d24-4539d3e3d3f2",
   "metadata": {},
   "source": [
    "### 4.使用xgboost进行预测"
   ]
  },
  {
   "cell_type": "markdown",
   "id": "0fe5b82f-17be-4f78-b100-c2d9d80fc3a2",
   "metadata": {},
   "source": [
    "#### 1.加入权重"
   ]
  },
  {
   "cell_type": "code",
   "execution_count": 41,
   "id": "e44b23dd-6ed2-4cad-90de-a383cc9e7681",
   "metadata": {},
   "outputs": [
    {
     "data": {
      "text/plain": [
       "0.000    518\n",
       "0.001      2\n",
       "0.932      1\n",
       "0.768      1\n",
       "0.352      1\n",
       "0.210      1\n",
       "0.173      1\n",
       "0.068      1\n",
       "0.049      1\n",
       "0.025      1\n",
       "0.013      1\n",
       "0.008      1\n",
       "Name: Share, dtype: int64"
      ]
     },
     "execution_count": 41,
     "metadata": {},
     "output_type": "execute_result"
    }
   ],
   "source": [
    "reg_tb[\"Share\"].value_counts()"
   ]
  },
  {
   "cell_type": "raw",
   "id": "c507ef7f-bc51-4adb-9d02-1fdae5725784",
   "metadata": {},
   "source": [
    "大多数球员没有mvp评分\n",
    "因为重点是预测准确mvp归属，评分为0的球员重要性更低\n",
    "因此可以尝试给训练集中有评分的球员更高的权重，提高有可能获得mvp球员的预测准确率"
   ]
  },
  {
   "cell_type": "code",
   "execution_count": 42,
   "id": "dfb5dce7-62b9-44ea-86da-841ecc7d6917",
   "metadata": {},
   "outputs": [],
   "source": [
    "weight_train_x = train_y.apply(lambda x: 1.5 if (x!=0) else 1)\n",
    "weight_train_x = np.array(weight_train_x)"
   ]
  },
  {
   "cell_type": "markdown",
   "id": "4297b756-5708-4f56-9fd9-027a539c8068",
   "metadata": {},
   "source": [
    "#### 2.用sklearn接口预测"
   ]
  },
  {
   "cell_type": "code",
   "execution_count": 43,
   "id": "f7807930-6337-4a0a-95c3-a9901b4ac929",
   "metadata": {},
   "outputs": [
    {
     "name": "stderr",
     "output_type": "stream",
     "text": [
      "C:\\Users\\jyq\\AppData\\Roaming\\Python\\Python39\\site-packages\\xgboost\\data.py:262: FutureWarning: pandas.Int64Index is deprecated and will be removed from pandas in a future version. Use pandas.Index with the appropriate dtype instead.\n",
      "  elif isinstance(data.columns, (pd.Int64Index, pd.RangeIndex)):\n"
     ]
    }
   ],
   "source": [
    "# 加权重效果不好，也可能权重要设置更优的值\n",
    "# xgb_weight = XGBRegressor().fit(train_x, train_y,sample_weight = weight_train_x)\n",
    "xgb_weight = XGBRegressor().fit(train_x, train_y)"
   ]
  },
  {
   "cell_type": "code",
   "execution_count": 44,
   "id": "a767e456-740a-49be-ba3c-ff4e00005046",
   "metadata": {
    "tags": []
   },
   "outputs": [],
   "source": [
    "xgb_pred = xgb_weight .predict(test_x)"
   ]
  },
  {
   "cell_type": "code",
   "execution_count": 45,
   "id": "8d2f5a97-5dc6-420d-9783-c6b750e561f7",
   "metadata": {},
   "outputs": [
    {
     "data": {
      "text/html": [
       "<div>\n",
       "<style scoped>\n",
       "    .dataframe tbody tr th:only-of-type {\n",
       "        vertical-align: middle;\n",
       "    }\n",
       "\n",
       "    .dataframe tbody tr th {\n",
       "        vertical-align: top;\n",
       "    }\n",
       "\n",
       "    .dataframe thead th {\n",
       "        text-align: right;\n",
       "    }\n",
       "</style>\n",
       "<table border=\"1\" class=\"dataframe\">\n",
       "  <thead>\n",
       "    <tr style=\"text-align: right;\">\n",
       "      <th></th>\n",
       "      <th>Player</th>\n",
       "      <th>Share</th>\n",
       "      <th>predictions</th>\n",
       "      <th>Rk</th>\n",
       "      <th>Predicted_Rk</th>\n",
       "      <th>Rk_diff</th>\n",
       "    </tr>\n",
       "  </thead>\n",
       "  <tbody>\n",
       "    <tr>\n",
       "      <th>0</th>\n",
       "      <td>Giannis Antetokounmpo</td>\n",
       "      <td>0.932</td>\n",
       "      <td>0.545981</td>\n",
       "      <td>1</td>\n",
       "      <td>2</td>\n",
       "      <td>-1</td>\n",
       "    </tr>\n",
       "    <tr>\n",
       "      <th>1</th>\n",
       "      <td>James Harden</td>\n",
       "      <td>0.768</td>\n",
       "      <td>0.628405</td>\n",
       "      <td>2</td>\n",
       "      <td>1</td>\n",
       "      <td>1</td>\n",
       "    </tr>\n",
       "    <tr>\n",
       "      <th>2</th>\n",
       "      <td>Paul George</td>\n",
       "      <td>0.352</td>\n",
       "      <td>0.120568</td>\n",
       "      <td>3</td>\n",
       "      <td>7</td>\n",
       "      <td>-4</td>\n",
       "    </tr>\n",
       "    <tr>\n",
       "      <th>3</th>\n",
       "      <td>Nikola Jokić</td>\n",
       "      <td>0.210</td>\n",
       "      <td>0.032669</td>\n",
       "      <td>4</td>\n",
       "      <td>11</td>\n",
       "      <td>-7</td>\n",
       "    </tr>\n",
       "    <tr>\n",
       "      <th>4</th>\n",
       "      <td>Stephen Curry</td>\n",
       "      <td>0.173</td>\n",
       "      <td>0.161978</td>\n",
       "      <td>5</td>\n",
       "      <td>6</td>\n",
       "      <td>-1</td>\n",
       "    </tr>\n",
       "    <tr>\n",
       "      <th>5</th>\n",
       "      <td>Damian Lillard</td>\n",
       "      <td>0.068</td>\n",
       "      <td>0.036581</td>\n",
       "      <td>6</td>\n",
       "      <td>10</td>\n",
       "      <td>-4</td>\n",
       "    </tr>\n",
       "    <tr>\n",
       "      <th>6</th>\n",
       "      <td>Joel Embiid</td>\n",
       "      <td>0.049</td>\n",
       "      <td>0.512238</td>\n",
       "      <td>7</td>\n",
       "      <td>3</td>\n",
       "      <td>4</td>\n",
       "    </tr>\n",
       "    <tr>\n",
       "      <th>7</th>\n",
       "      <td>Kevin Durant</td>\n",
       "      <td>0.025</td>\n",
       "      <td>0.325669</td>\n",
       "      <td>8</td>\n",
       "      <td>4</td>\n",
       "      <td>4</td>\n",
       "    </tr>\n",
       "    <tr>\n",
       "      <th>8</th>\n",
       "      <td>Kawhi Leonard</td>\n",
       "      <td>0.013</td>\n",
       "      <td>0.228292</td>\n",
       "      <td>9</td>\n",
       "      <td>5</td>\n",
       "      <td>4</td>\n",
       "    </tr>\n",
       "    <tr>\n",
       "      <th>9</th>\n",
       "      <td>Russell Westbrook</td>\n",
       "      <td>0.008</td>\n",
       "      <td>0.001787</td>\n",
       "      <td>10</td>\n",
       "      <td>26</td>\n",
       "      <td>-16</td>\n",
       "    </tr>\n",
       "  </tbody>\n",
       "</table>\n",
       "</div>"
      ],
      "text/plain": [
       "                  Player  Share  predictions  Rk  Predicted_Rk  Rk_diff\n",
       "0  Giannis Antetokounmpo  0.932     0.545981   1             2       -1\n",
       "1           James Harden  0.768     0.628405   2             1        1\n",
       "2            Paul George  0.352     0.120568   3             7       -4\n",
       "3           Nikola Jokić  0.210     0.032669   4            11       -7\n",
       "4          Stephen Curry  0.173     0.161978   5             6       -1\n",
       "5         Damian Lillard  0.068     0.036581   6            10       -4\n",
       "6            Joel Embiid  0.049     0.512238   7             3        4\n",
       "7           Kevin Durant  0.025     0.325669   8             4        4\n",
       "8          Kawhi Leonard  0.013     0.228292   9             5        4\n",
       "9      Russell Westbrook  0.008     0.001787  10            26      -16"
      ]
     },
     "execution_count": 45,
     "metadata": {},
     "output_type": "execute_result"
    }
   ],
   "source": [
    "xg_tb = show_pre_table(xgb_pred)\n",
    "xg_tb.head(10)"
   ]
  },
  {
   "cell_type": "code",
   "execution_count": 46,
   "id": "1939a8c6-3e94-4c85-8739-785c7271cb06",
   "metadata": {},
   "outputs": [
    {
     "data": {
      "text/plain": [
       "0.001160834476349289"
      ]
     },
     "execution_count": 46,
     "metadata": {},
     "output_type": "execute_result"
    }
   ],
   "source": [
    "show_mse_error(xg_tb)"
   ]
  },
  {
   "cell_type": "markdown",
   "id": "171c01b5-220a-454b-8dd3-27af2c5537ed",
   "metadata": {},
   "source": [
    "#### 3.用C接口预测"
   ]
  },
  {
   "cell_type": "code",
   "execution_count": 47,
   "id": "1def66f3-338d-47f9-aaf3-22a7ad8639ed",
   "metadata": {},
   "outputs": [
    {
     "name": "stderr",
     "output_type": "stream",
     "text": [
      "C:\\Users\\jyq\\AppData\\Roaming\\Python\\Python39\\site-packages\\xgboost\\data.py:262: FutureWarning: pandas.Int64Index is deprecated and will be removed from pandas in a future version. Use pandas.Index with the appropriate dtype instead.\n",
      "  elif isinstance(data.columns, (pd.Int64Index, pd.RangeIndex)):\n"
     ]
    }
   ],
   "source": [
    "dtrain = xgb.DMatrix(train_x, train_y)\n",
    "dtest = xgb.DMatrix(test_x, test_y)"
   ]
  },
  {
   "cell_type": "code",
   "execution_count": 48,
   "id": "43a6ace5-72b5-41f4-8e7e-ca1b3a91b76a",
   "metadata": {},
   "outputs": [],
   "source": [
    "params = {\n",
    "    'objective' : 'multi:softprob',  #类似于sigmod,可以将多分类的预测值映射到0到1之间，通过softmax函数解决多分类问题\n",
    "    #'objective' : 'multi:softprob', #类似于predict_prob，给出每个样本在每个类别下下的预测概率\n",
    "    'num_class' : 3,   # 必须告知字典，当前数据集里Y标签的种类有多少\n",
    "    'eval_metric' : ['merror', 'mlogloss'],\n",
    "    'eta' : 0.1,       # 学习率\n",
    "    'max_depth' : 5,   # 树的最大深度\n",
    "    'gamma' : 0,#后剪枝的过程,0到正无穷, 默认0，尝试0, 1，5，10，100\n",
    "    'min_child_weight':1,#叶子节点权重分数的下界\n",
    "}"
   ]
  },
  {
   "cell_type": "code",
   "execution_count": 49,
   "id": "762661c5-b69c-4a8b-9ff3-10ce526f673f",
   "metadata": {},
   "outputs": [],
   "source": [
    "watchlist = [(dtrain, 'train'),(dtest, 'test')]\n",
    "model = xgb.train(params, dtrain, 1000, \n",
    "                  watchlist, \n",
    "                  early_stopping_rounds = 10,\n",
    "                  verbose_eval = False\n",
    "                 )"
   ]
  },
  {
   "cell_type": "code",
   "execution_count": 50,
   "id": "4230592d-f17b-4777-b22b-e57a86f32eb0",
   "metadata": {},
   "outputs": [],
   "source": [
    "Y_train_pred = model.predict(dtrain)\n",
    "Y_test_pred = model.predict(dtest)  # 由于设定的是softmax，所以给出的结果直接是label, 可以尝试改成softprob"
   ]
  },
  {
   "cell_type": "code",
   "execution_count": 51,
   "id": "61394eee-e0dc-46c1-8601-e05c02d9ab2f",
   "metadata": {},
   "outputs": [
    {
     "data": {
      "text/plain": [
       "array([[9.9863297e-01, 6.8148534e-04, 6.8550353e-04],\n",
       "       [9.9999273e-01, 3.6141646e-06, 3.6396602e-06],\n",
       "       [9.9966204e-01, 1.6836966e-04, 1.6955739e-04],\n",
       "       ...,\n",
       "       [9.9991035e-01, 4.4685585e-05, 4.5000852e-05],\n",
       "       [9.9999130e-01, 4.3586233e-06, 4.3893701e-06],\n",
       "       [9.9995172e-01, 2.4043142e-05, 2.4212772e-05]], dtype=float32)"
      ]
     },
     "execution_count": 51,
     "metadata": {},
     "output_type": "execute_result"
    }
   ],
   "source": [
    "Y_test_pred"
   ]
  },
  {
   "cell_type": "code",
   "execution_count": null,
   "id": "b18dc046-d82a-41e5-b598-46b2246097db",
   "metadata": {},
   "outputs": [],
   "source": []
  },
  {
   "cell_type": "code",
   "execution_count": null,
   "id": "248bc943-039f-4ff5-ba26-90a1ebcb58a4",
   "metadata": {},
   "outputs": [],
   "source": []
  }
 ],
 "metadata": {
  "kernelspec": {
   "display_name": "Python 3 (ipykernel)",
   "language": "python",
   "name": "python3"
  },
  "language_info": {
   "codemirror_mode": {
    "name": "ipython",
    "version": 3
   },
   "file_extension": ".py",
   "mimetype": "text/x-python",
   "name": "python",
   "nbconvert_exporter": "python",
   "pygments_lexer": "ipython3",
   "version": "3.9.7"
  }
 },
 "nbformat": 4,
 "nbformat_minor": 5
}
