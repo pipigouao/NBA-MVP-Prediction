{
 "cells": [
  {
   "cell_type": "markdown",
   "id": "ba02546c-8a04-4a1d-bbae-2b333dcdb39f",
   "metadata": {},
   "source": [
    "# 机器学习预测mvp"
   ]
  },
  {
   "cell_type": "code",
   "execution_count": 1,
   "id": "d12f11ca-8549-40ec-b4c7-48019f37c57f",
   "metadata": {},
   "outputs": [],
   "source": [
    "import numpy as np\n",
    "import pandas as pd"
   ]
  },
  {
   "cell_type": "code",
   "execution_count": 2,
   "id": "87871621-352f-44a6-a0f6-edd234a201fe",
   "metadata": {},
   "outputs": [
    {
     "data": {
      "text/html": [
       "<div>\n",
       "<style scoped>\n",
       "    .dataframe tbody tr th:only-of-type {\n",
       "        vertical-align: middle;\n",
       "    }\n",
       "\n",
       "    .dataframe tbody tr th {\n",
       "        vertical-align: top;\n",
       "    }\n",
       "\n",
       "    .dataframe thead th {\n",
       "        text-align: right;\n",
       "    }\n",
       "</style>\n",
       "<table border=\"1\" class=\"dataframe\">\n",
       "  <thead>\n",
       "    <tr style=\"text-align: right;\">\n",
       "      <th></th>\n",
       "      <th>Player</th>\n",
       "      <th>Pos</th>\n",
       "      <th>Age</th>\n",
       "      <th>Tm</th>\n",
       "      <th>G</th>\n",
       "      <th>GS</th>\n",
       "      <th>MP</th>\n",
       "      <th>FG</th>\n",
       "      <th>FGA</th>\n",
       "      <th>FG%</th>\n",
       "      <th>...</th>\n",
       "      <th>Pts Max</th>\n",
       "      <th>Share</th>\n",
       "      <th>Team</th>\n",
       "      <th>W</th>\n",
       "      <th>L</th>\n",
       "      <th>W/L%</th>\n",
       "      <th>GB</th>\n",
       "      <th>PS/G</th>\n",
       "      <th>PA/G</th>\n",
       "      <th>SRS</th>\n",
       "    </tr>\n",
       "  </thead>\n",
       "  <tbody>\n",
       "    <tr>\n",
       "      <th>0</th>\n",
       "      <td>A.C. Green</td>\n",
       "      <td>PF</td>\n",
       "      <td>28.0</td>\n",
       "      <td>LAL</td>\n",
       "      <td>82.0</td>\n",
       "      <td>53.0</td>\n",
       "      <td>35.4</td>\n",
       "      <td>4.7</td>\n",
       "      <td>9.8</td>\n",
       "      <td>0.476</td>\n",
       "      <td>...</td>\n",
       "      <td>0.0</td>\n",
       "      <td>0.0</td>\n",
       "      <td>Los Angeles Lakers</td>\n",
       "      <td>43.0</td>\n",
       "      <td>39.0</td>\n",
       "      <td>0.524</td>\n",
       "      <td>14.0</td>\n",
       "      <td>100.4</td>\n",
       "      <td>101.5</td>\n",
       "      <td>-0.95</td>\n",
       "    </tr>\n",
       "    <tr>\n",
       "      <th>1</th>\n",
       "      <td>Byron Scott</td>\n",
       "      <td>SG</td>\n",
       "      <td>30.0</td>\n",
       "      <td>LAL</td>\n",
       "      <td>82.0</td>\n",
       "      <td>82.0</td>\n",
       "      <td>32.7</td>\n",
       "      <td>5.6</td>\n",
       "      <td>12.3</td>\n",
       "      <td>0.458</td>\n",
       "      <td>...</td>\n",
       "      <td>0.0</td>\n",
       "      <td>0.0</td>\n",
       "      <td>Los Angeles Lakers</td>\n",
       "      <td>43.0</td>\n",
       "      <td>39.0</td>\n",
       "      <td>0.524</td>\n",
       "      <td>14.0</td>\n",
       "      <td>100.4</td>\n",
       "      <td>101.5</td>\n",
       "      <td>-0.95</td>\n",
       "    </tr>\n",
       "    <tr>\n",
       "      <th>2</th>\n",
       "      <td>Chucky Brown</td>\n",
       "      <td>SF</td>\n",
       "      <td>23.0</td>\n",
       "      <td>LAL</td>\n",
       "      <td>42.0</td>\n",
       "      <td>2.0</td>\n",
       "      <td>10.3</td>\n",
       "      <td>1.4</td>\n",
       "      <td>3.0</td>\n",
       "      <td>0.469</td>\n",
       "      <td>...</td>\n",
       "      <td>0.0</td>\n",
       "      <td>0.0</td>\n",
       "      <td>Los Angeles Lakers</td>\n",
       "      <td>43.0</td>\n",
       "      <td>39.0</td>\n",
       "      <td>0.524</td>\n",
       "      <td>14.0</td>\n",
       "      <td>100.4</td>\n",
       "      <td>101.5</td>\n",
       "      <td>-0.95</td>\n",
       "    </tr>\n",
       "    <tr>\n",
       "      <th>3</th>\n",
       "      <td>Cliff Robinson</td>\n",
       "      <td>PF</td>\n",
       "      <td>31.0</td>\n",
       "      <td>LAL</td>\n",
       "      <td>9.0</td>\n",
       "      <td>0.0</td>\n",
       "      <td>8.7</td>\n",
       "      <td>1.2</td>\n",
       "      <td>3.0</td>\n",
       "      <td>0.407</td>\n",
       "      <td>...</td>\n",
       "      <td>0.0</td>\n",
       "      <td>0.0</td>\n",
       "      <td>Los Angeles Lakers</td>\n",
       "      <td>43.0</td>\n",
       "      <td>39.0</td>\n",
       "      <td>0.524</td>\n",
       "      <td>14.0</td>\n",
       "      <td>100.4</td>\n",
       "      <td>101.5</td>\n",
       "      <td>-0.95</td>\n",
       "    </tr>\n",
       "    <tr>\n",
       "      <th>4</th>\n",
       "      <td>Demetrius Calip</td>\n",
       "      <td>PG</td>\n",
       "      <td>22.0</td>\n",
       "      <td>LAL</td>\n",
       "      <td>7.0</td>\n",
       "      <td>0.0</td>\n",
       "      <td>8.3</td>\n",
       "      <td>0.6</td>\n",
       "      <td>2.6</td>\n",
       "      <td>0.222</td>\n",
       "      <td>...</td>\n",
       "      <td>0.0</td>\n",
       "      <td>0.0</td>\n",
       "      <td>Los Angeles Lakers</td>\n",
       "      <td>43.0</td>\n",
       "      <td>39.0</td>\n",
       "      <td>0.524</td>\n",
       "      <td>14.0</td>\n",
       "      <td>100.4</td>\n",
       "      <td>101.5</td>\n",
       "      <td>-0.95</td>\n",
       "    </tr>\n",
       "  </tbody>\n",
       "</table>\n",
       "<p>5 rows × 41 columns</p>\n",
       "</div>"
      ],
      "text/plain": [
       "            Player Pos   Age   Tm     G    GS    MP   FG   FGA    FG%  ...  \\\n",
       "0       A.C. Green  PF  28.0  LAL  82.0  53.0  35.4  4.7   9.8  0.476  ...   \n",
       "1      Byron Scott  SG  30.0  LAL  82.0  82.0  32.7  5.6  12.3  0.458  ...   \n",
       "2     Chucky Brown  SF  23.0  LAL  42.0   2.0  10.3  1.4   3.0  0.469  ...   \n",
       "3   Cliff Robinson  PF  31.0  LAL   9.0   0.0   8.7  1.2   3.0  0.407  ...   \n",
       "4  Demetrius Calip  PG  22.0  LAL   7.0   0.0   8.3  0.6   2.6  0.222  ...   \n",
       "\n",
       "   Pts Max  Share                Team     W     L   W/L%    GB   PS/G   PA/G  \\\n",
       "0      0.0    0.0  Los Angeles Lakers  43.0  39.0  0.524  14.0  100.4  101.5   \n",
       "1      0.0    0.0  Los Angeles Lakers  43.0  39.0  0.524  14.0  100.4  101.5   \n",
       "2      0.0    0.0  Los Angeles Lakers  43.0  39.0  0.524  14.0  100.4  101.5   \n",
       "3      0.0    0.0  Los Angeles Lakers  43.0  39.0  0.524  14.0  100.4  101.5   \n",
       "4      0.0    0.0  Los Angeles Lakers  43.0  39.0  0.524  14.0  100.4  101.5   \n",
       "\n",
       "    SRS  \n",
       "0 -0.95  \n",
       "1 -0.95  \n",
       "2 -0.95  \n",
       "3 -0.95  \n",
       "4 -0.95  \n",
       "\n",
       "[5 rows x 41 columns]"
      ]
     },
     "execution_count": 2,
     "metadata": {},
     "output_type": "execute_result"
    }
   ],
   "source": [
    "stats = pd.read_csv(\"player_mvp_stats.csv\",index_col=0)\n",
    "stats.head()"
   ]
  },
  {
   "cell_type": "code",
   "execution_count": 3,
   "id": "1597f4d3-310f-4b09-abfe-f6860b400c7f",
   "metadata": {
    "collapsed": true,
    "jupyter": {
     "outputs_hidden": true
    },
    "tags": []
   },
   "outputs": [
    {
     "name": "stdout",
     "output_type": "stream",
     "text": [
      "<class 'pandas.core.frame.DataFrame'>\n",
      "Int64Index: 13374 entries, 0 to 13373\n",
      "Data columns (total 41 columns):\n",
      " #   Column   Non-Null Count  Dtype  \n",
      "---  ------   --------------  -----  \n",
      " 0   Player   13374 non-null  object \n",
      " 1   Pos      13167 non-null  object \n",
      " 2   Age      13167 non-null  float64\n",
      " 3   Tm       13167 non-null  object \n",
      " 4   G        13167 non-null  float64\n",
      " 5   GS       13167 non-null  float64\n",
      " 6   MP       13167 non-null  float64\n",
      " 7   FG       13167 non-null  float64\n",
      " 8   FGA      13167 non-null  float64\n",
      " 9   FG%      13119 non-null  float64\n",
      " 10  3P       13167 non-null  float64\n",
      " 11  3PA      13167 non-null  float64\n",
      " 12  3P%      11202 non-null  float64\n",
      " 13  2P       13167 non-null  float64\n",
      " 14  2PA      13167 non-null  float64\n",
      " 15  2P%      13089 non-null  float64\n",
      " 16  eFG%     13119 non-null  float64\n",
      " 17  FT       13167 non-null  float64\n",
      " 18  FTA      13167 non-null  float64\n",
      " 19  FT%      12728 non-null  float64\n",
      " 20  ORB      13167 non-null  float64\n",
      " 21  DRB      13167 non-null  float64\n",
      " 22  TRB      13167 non-null  float64\n",
      " 23  AST      13167 non-null  float64\n",
      " 24  STL      13167 non-null  float64\n",
      " 25  BLK      13167 non-null  float64\n",
      " 26  TOV      13167 non-null  float64\n",
      " 27  PF       13167 non-null  float64\n",
      " 28  PTS      13167 non-null  float64\n",
      " 29  Year     13374 non-null  int64  \n",
      " 30  Pts Won  13374 non-null  float64\n",
      " 31  Pts Max  13374 non-null  float64\n",
      " 32  Share    13374 non-null  float64\n",
      " 33  Team     13167 non-null  object \n",
      " 34  W        13167 non-null  float64\n",
      " 35  L        13167 non-null  float64\n",
      " 36  W/L%     13167 non-null  float64\n",
      " 37  GB       13167 non-null  object \n",
      " 38  PS/G     13167 non-null  float64\n",
      " 39  PA/G     13167 non-null  float64\n",
      " 40  SRS      13167 non-null  float64\n",
      "dtypes: float64(35), int64(1), object(5)\n",
      "memory usage: 4.3+ MB\n"
     ]
    }
   ],
   "source": [
    "stats.info()"
   ]
  },
  {
   "cell_type": "code",
   "execution_count": 4,
   "id": "c78f034f-9e9b-481e-bb26-933f8e474fd9",
   "metadata": {
    "collapsed": true,
    "jupyter": {
     "outputs_hidden": true
    },
    "tags": []
   },
   "outputs": [
    {
     "data": {
      "text/plain": [
       "Player        0\n",
       "Pos         207\n",
       "Age         207\n",
       "Tm          207\n",
       "G           207\n",
       "GS          207\n",
       "MP          207\n",
       "FG          207\n",
       "FGA         207\n",
       "FG%         255\n",
       "3P          207\n",
       "3PA         207\n",
       "3P%        2172\n",
       "2P          207\n",
       "2PA         207\n",
       "2P%         285\n",
       "eFG%        255\n",
       "FT          207\n",
       "FTA         207\n",
       "FT%         646\n",
       "ORB         207\n",
       "DRB         207\n",
       "TRB         207\n",
       "AST         207\n",
       "STL         207\n",
       "BLK         207\n",
       "TOV         207\n",
       "PF          207\n",
       "PTS         207\n",
       "Year          0\n",
       "Pts Won       0\n",
       "Pts Max       0\n",
       "Share         0\n",
       "Team        207\n",
       "W           207\n",
       "L           207\n",
       "W/L%        207\n",
       "GB          207\n",
       "PS/G        207\n",
       "PA/G        207\n",
       "SRS         207\n",
       "dtype: int64"
      ]
     },
     "execution_count": 4,
     "metadata": {},
     "output_type": "execute_result"
    }
   ],
   "source": [
    "stats.isnull().sum()"
   ]
  },
  {
   "cell_type": "markdown",
   "id": "72a0abac-1176-4315-8220-6b8caaaf97d3",
   "metadata": {},
   "source": [
    "## 预处理"
   ]
  },
  {
   "cell_type": "markdown",
   "id": "87b97d9c-a0a6-4b35-ab3d-d2d8cfcc70ee",
   "metadata": {},
   "source": [
    "### 预测年份"
   ]
  },
  {
   "cell_type": "code",
   "execution_count": 5,
   "id": "3c5f7805-7937-4ace-8bba-fcad9db2f233",
   "metadata": {},
   "outputs": [],
   "source": [
    "pred_year = 2020"
   ]
  },
  {
   "cell_type": "markdown",
   "id": "b7ca7c67-d948-4372-9c80-71e860147584",
   "metadata": {},
   "source": [
    "### 填补缺失值"
   ]
  },
  {
   "cell_type": "code",
   "execution_count": 6,
   "id": "04bd80b3-d4aa-4cb0-8951-7cbcd7fb4840",
   "metadata": {},
   "outputs": [],
   "source": [
    "stats[\"GB\"] = stats[\"GB\"].str.replace(\"—\",\"0\")\n",
    "stats[\"GB\"] = pd.to_numeric(stats[\"GB\"])"
   ]
  },
  {
   "cell_type": "code",
   "execution_count": 7,
   "id": "1ee6db19-598a-4df7-8a57-6957235c1a10",
   "metadata": {},
   "outputs": [
    {
     "data": {
      "text/plain": [
       "dtype('float64')"
      ]
     },
     "execution_count": 7,
     "metadata": {},
     "output_type": "execute_result"
    }
   ],
   "source": [
    "stats[\"GB\"].dtype"
   ]
  },
  {
   "cell_type": "code",
   "execution_count": 8,
   "id": "4b577d33-16a7-41fc-9040-f4ed1da33447",
   "metadata": {},
   "outputs": [],
   "source": [
    "stats = stats.apply(pd.to_numeric, errors='ignore')"
   ]
  },
  {
   "cell_type": "code",
   "execution_count": 9,
   "id": "18f60330-050c-4fa3-8585-1f7e9ac66362",
   "metadata": {},
   "outputs": [],
   "source": [
    "stats = stats.fillna(0)"
   ]
  },
  {
   "cell_type": "code",
   "execution_count": 40,
   "id": "6284b765-c3e3-43b6-ae90-f5bd0412af32",
   "metadata": {
    "collapsed": true,
    "jupyter": {
     "outputs_hidden": true
    },
    "tags": []
   },
   "outputs": [
    {
     "name": "stderr",
     "output_type": "stream",
     "text": [
      "C:\\Users\\jyq\\AppData\\Local\\Temp\\ipykernel_38332\\99616770.py:2: SettingWithCopyWarning: \n",
      "A value is trying to be set on a copy of a slice from a DataFrame.\n",
      "Try using .loc[row_indexer,col_indexer] = value instead\n",
      "\n",
      "See the caveats in the documentation: https://pandas.pydata.org/pandas-docs/stable/user_guide/indexing.html#returning-a-view-versus-a-copy\n",
      "  test[\"Player\"] = test[\"Player\"].str.replace(\"膷\",\"c\")\n",
      "C:\\Users\\jyq\\AppData\\Local\\Temp\\ipykernel_38332\\99616770.py:3: SettingWithCopyWarning: \n",
      "A value is trying to be set on a copy of a slice from a DataFrame.\n",
      "Try using .loc[row_indexer,col_indexer] = value instead\n",
      "\n",
      "See the caveats in the documentation: https://pandas.pydata.org/pandas-docs/stable/user_guide/indexing.html#returning-a-view-versus-a-copy\n",
      "  test[\"Player\"] = test[\"Player\"].str.replace(\"膰\",\"c\")\n"
     ]
    }
   ],
   "source": [
    "### 文字中存在乱码 Luka Don膷i膰，Nikola Joki膰 需在前文解决\n",
    "test[\"Player\"] = test[\"Player\"].str.replace(\"膷\",\"c\")\n",
    "test[\"Player\"] = test[\"Player\"].str.replace(\"膰\",\"c\")"
   ]
  },
  {
   "cell_type": "markdown",
   "id": "b3480bbe-e084-4899-bddd-eaf746e6aa93",
   "metadata": {},
   "source": [
    "### 选择predictor"
   ]
  },
  {
   "cell_type": "code",
   "execution_count": 10,
   "id": "6ee789d0-6d15-42a0-8086-7cc3a9fcc363",
   "metadata": {},
   "outputs": [
    {
     "data": {
      "text/plain": [
       "Index(['Player', 'Pos', 'Age', 'Tm', 'G', 'GS', 'MP', 'FG', 'FGA', 'FG%', '3P',\n",
       "       '3PA', '3P%', '2P', '2PA', '2P%', 'eFG%', 'FT', 'FTA', 'FT%', 'ORB',\n",
       "       'DRB', 'TRB', 'AST', 'STL', 'BLK', 'TOV', 'PF', 'PTS', 'Year',\n",
       "       'Pts Won', 'Pts Max', 'Share', 'Team', 'W', 'L', 'W/L%', 'GB', 'PS/G',\n",
       "       'PA/G', 'SRS'],\n",
       "      dtype='object')"
      ]
     },
     "execution_count": 10,
     "metadata": {},
     "output_type": "execute_result"
    }
   ],
   "source": [
    "stats.columns"
   ]
  },
  {
   "cell_type": "code",
   "execution_count": 11,
   "id": "f67caa4f-3d16-4d00-93b1-b249157a074c",
   "metadata": {},
   "outputs": [],
   "source": [
    "predictors = [\"Age\", \"G\", \"GS\", \"MP\", \"FG\", \"FGA\", 'FG%', '3P', '3PA'\n",
    "              , '3P%', '2P', '2PA', '2P%', 'eFG%', 'FT', 'FTA', 'FT%'\n",
    "              , 'ORB', 'DRB', 'TRB', 'AST', 'STL', 'BLK', 'TOV', 'PF', 'PTS', 'W', 'L', 'W/L%',\n",
    "       'GB', 'PS/G', 'PA/G', 'SRS']"
   ]
  },
  {
   "cell_type": "code",
   "execution_count": 12,
   "id": "16164d75-4908-45e3-9f23-ebc2c8635b45",
   "metadata": {},
   "outputs": [],
   "source": [
    "train = stats[~(stats[\"Year\"] == pred_year)]\n",
    "test = stats[stats[\"Year\"] == pred_year]"
   ]
  },
  {
   "cell_type": "code",
   "execution_count": 13,
   "id": "6af16418-649d-4eed-a8d7-fa89e2c0e687",
   "metadata": {},
   "outputs": [],
   "source": [
    "train_x = train[predictors]\n",
    "train_y = train[\"Share\"]\n",
    "\n",
    "test_x = test[predictors]\n",
    "test_y = test[\"Share\"]"
   ]
  },
  {
   "cell_type": "markdown",
   "id": "2f7bbae7-d028-4196-80e1-b96923c6a4f9",
   "metadata": {},
   "source": [
    "## 机器学习预测"
   ]
  },
  {
   "cell_type": "code",
   "execution_count": 14,
   "id": "bd8873e8-f8a7-4bcb-9034-e4ab90cbae9c",
   "metadata": {},
   "outputs": [],
   "source": [
    "from sklearn.linear_model import Ridge\n",
    "from sklearn.ensemble import RandomForestRegressor\n",
    "\n",
    "from sklearn.metrics import mean_squared_error"
   ]
  },
  {
   "cell_type": "markdown",
   "id": "8c30bc06-ada9-4bbc-b888-b45ffb19d731",
   "metadata": {},
   "source": [
    "### 定义工具"
   ]
  },
  {
   "cell_type": "code",
   "execution_count": null,
   "id": "744a0c39-15c1-4643-989e-c502937dfb46",
   "metadata": {},
   "outputs": [],
   "source": [
    "## 展示预测结果\n",
    "def show_pre_table(mvp_prediction):\n",
    "    pd_mvp_pred = pd.DataFrame(mvp_prediction, columns=[\"predictions\"], index=test_y.index)\n",
    "    combinations = pd.concat([test[[\"Player\",\"Share\"]],pd_mvp_pred], axis=1)\n",
    "    \n",
    "    actual = combinations.sort_values(\"Share\", ascending=False)\n",
    "    predicted = combinations.sort_values(\"predictions\", ascending=False)\n",
    "    actual[\"Rk\"] = list(range(1,actual.shape[0]+1))\n",
    "    predicted[\"Predicted_Rk\"] = list(range(1,predicted.shape[0]+1))\n",
    "\n",
    "    pred_table = actual.merge(predicted, on=\"Player\")\n",
    "    \n",
    "    #删除多余的列并修改列名\n",
    "    del pred_table[\"Share_y\"]\n",
    "    del pred_table[\"predictions_y\"]\n",
    "    pred_table.rename(columns={'Share_x':'Share', 'predictions_x':'predictions'}, inplace=True)\n",
    "    \n",
    "    pred_table[\"Rk_diff\"] = pred_table[\"Rk\"] - pred_table[\"Predicted_Rk\"]\n",
    "    \n",
    "    return pred_table   "
   ]
  },
  {
   "cell_type": "code",
   "execution_count": 76,
   "id": "1f4fa069-7917-4c9e-9a3f-a0c0d353cd70",
   "metadata": {},
   "outputs": [],
   "source": [
    "'''\n",
    "展示预测误差\n",
    "1.不指定topn时，计算全部误差\n",
    "2.指定topn时，计算前实际前十的误差\n",
    "'''\n",
    "def show_mse_error(pred_table,topn = 0):\n",
    "    if topn == 0:\n",
    "        mse = mean_squared_error(pred_table[\"Share\"], pred_table[\"predictions\"])\n",
    "    else:\n",
    "        topN = pred_table.iloc[:10,:]\n",
    "        mse = mean_squared_error(topN[\"Share\"], topN[\"predictions\"])\n",
    "        \n",
    "    return mse"
   ]
  },
  {
   "cell_type": "markdown",
   "id": "acb19a72-a0b9-4996-acf5-c2e3eb2f2194",
   "metadata": {},
   "source": [
    "### 使用岭回归预测"
   ]
  },
  {
   "cell_type": "code",
   "execution_count": 17,
   "id": "f8f347f4-c614-418f-b051-c086179f1a19",
   "metadata": {},
   "outputs": [
    {
     "data": {
      "text/plain": [
       "Ridge(alpha=0.1)"
      ]
     },
     "execution_count": 17,
     "metadata": {},
     "output_type": "execute_result"
    }
   ],
   "source": [
    "reg = Ridge(alpha=0.1)\n",
    "reg.fit(train_x, train_y)"
   ]
  },
  {
   "cell_type": "code",
   "execution_count": null,
   "id": "3eb40451-5cab-4d43-bc8f-303153660d91",
   "metadata": {},
   "outputs": [],
   "source": [
    "mvp_pred_reg = reg.predict(test_x)"
   ]
  },
  {
   "cell_type": "code",
   "execution_count": 80,
   "id": "a8c29937-cdca-4ffd-adf6-246c8ce54c8e",
   "metadata": {},
   "outputs": [
    {
     "data": {
      "text/html": [
       "<div>\n",
       "<style scoped>\n",
       "    .dataframe tbody tr th:only-of-type {\n",
       "        vertical-align: middle;\n",
       "    }\n",
       "\n",
       "    .dataframe tbody tr th {\n",
       "        vertical-align: top;\n",
       "    }\n",
       "\n",
       "    .dataframe thead th {\n",
       "        text-align: right;\n",
       "    }\n",
       "</style>\n",
       "<table border=\"1\" class=\"dataframe\">\n",
       "  <thead>\n",
       "    <tr style=\"text-align: right;\">\n",
       "      <th></th>\n",
       "      <th>Player</th>\n",
       "      <th>Share</th>\n",
       "      <th>predictions</th>\n",
       "      <th>Rk</th>\n",
       "      <th>Predicted_Rk</th>\n",
       "      <th>Rk_diff</th>\n",
       "    </tr>\n",
       "  </thead>\n",
       "  <tbody>\n",
       "    <tr>\n",
       "      <th>0</th>\n",
       "      <td>Giannis Antetokounmpo</td>\n",
       "      <td>0.952</td>\n",
       "      <td>0.116206</td>\n",
       "      <td>1</td>\n",
       "      <td>4</td>\n",
       "      <td>-3</td>\n",
       "    </tr>\n",
       "    <tr>\n",
       "      <th>1</th>\n",
       "      <td>LeBron James</td>\n",
       "      <td>0.746</td>\n",
       "      <td>0.079801</td>\n",
       "      <td>2</td>\n",
       "      <td>10</td>\n",
       "      <td>-8</td>\n",
       "    </tr>\n",
       "    <tr>\n",
       "      <th>2</th>\n",
       "      <td>James Harden</td>\n",
       "      <td>0.363</td>\n",
       "      <td>0.136995</td>\n",
       "      <td>3</td>\n",
       "      <td>3</td>\n",
       "      <td>0</td>\n",
       "    </tr>\n",
       "    <tr>\n",
       "      <th>3</th>\n",
       "      <td>Luka Doncic</td>\n",
       "      <td>0.198</td>\n",
       "      <td>0.196729</td>\n",
       "      <td>4</td>\n",
       "      <td>2</td>\n",
       "      <td>2</td>\n",
       "    </tr>\n",
       "    <tr>\n",
       "      <th>4</th>\n",
       "      <td>Kawhi Leonard</td>\n",
       "      <td>0.166</td>\n",
       "      <td>0.072333</td>\n",
       "      <td>5</td>\n",
       "      <td>14</td>\n",
       "      <td>-9</td>\n",
       "    </tr>\n",
       "    <tr>\n",
       "      <th>5</th>\n",
       "      <td>Anthony Davis</td>\n",
       "      <td>0.081</td>\n",
       "      <td>0.069569</td>\n",
       "      <td>6</td>\n",
       "      <td>15</td>\n",
       "      <td>-9</td>\n",
       "    </tr>\n",
       "    <tr>\n",
       "      <th>6</th>\n",
       "      <td>Chris Paul</td>\n",
       "      <td>0.026</td>\n",
       "      <td>0.046803</td>\n",
       "      <td>7</td>\n",
       "      <td>27</td>\n",
       "      <td>-20</td>\n",
       "    </tr>\n",
       "    <tr>\n",
       "      <th>7</th>\n",
       "      <td>Damian Lillard</td>\n",
       "      <td>0.023</td>\n",
       "      <td>0.098417</td>\n",
       "      <td>8</td>\n",
       "      <td>7</td>\n",
       "      <td>1</td>\n",
       "    </tr>\n",
       "    <tr>\n",
       "      <th>8</th>\n",
       "      <td>Nikola Jokic</td>\n",
       "      <td>0.018</td>\n",
       "      <td>0.196729</td>\n",
       "      <td>9</td>\n",
       "      <td>1</td>\n",
       "      <td>8</td>\n",
       "    </tr>\n",
       "    <tr>\n",
       "      <th>9</th>\n",
       "      <td>Pascal Siakam</td>\n",
       "      <td>0.017</td>\n",
       "      <td>0.038609</td>\n",
       "      <td>10</td>\n",
       "      <td>44</td>\n",
       "      <td>-34</td>\n",
       "    </tr>\n",
       "  </tbody>\n",
       "</table>\n",
       "</div>"
      ],
      "text/plain": [
       "                  Player  Share  predictions  Rk  Predicted_Rk  Rk_diff\n",
       "0  Giannis Antetokounmpo  0.952     0.116206   1             4       -3\n",
       "1           LeBron James  0.746     0.079801   2            10       -8\n",
       "2           James Harden  0.363     0.136995   3             3        0\n",
       "3            Luka Doncic  0.198     0.196729   4             2        2\n",
       "4          Kawhi Leonard  0.166     0.072333   5            14       -9\n",
       "5          Anthony Davis  0.081     0.069569   6            15       -9\n",
       "6             Chris Paul  0.026     0.046803   7            27      -20\n",
       "7         Damian Lillard  0.023     0.098417   8             7        1\n",
       "8           Nikola Jokic  0.018     0.196729   9             1        8\n",
       "9          Pascal Siakam  0.017     0.038609  10            44      -34"
      ]
     },
     "execution_count": 80,
     "metadata": {},
     "output_type": "execute_result"
    }
   ],
   "source": [
    "reg_tb = show_pre_table(mvp_pred_reg)\n",
    "reg_tb.head(10)"
   ]
  },
  {
   "cell_type": "code",
   "execution_count": 81,
   "id": "b417eb24-16ba-4c99-be03-7fada3d81312",
   "metadata": {},
   "outputs": [
    {
     "data": {
      "text/plain": [
       "0.000    519\n",
       "0.952      1\n",
       "0.746      1\n",
       "0.363      1\n",
       "0.198      1\n",
       "0.166      1\n",
       "0.081      1\n",
       "0.026      1\n",
       "0.023      1\n",
       "0.018      1\n",
       "0.017      1\n",
       "0.009      1\n",
       "0.001      1\n",
       "Name: Share, dtype: int64"
      ]
     },
     "execution_count": 81,
     "metadata": {},
     "output_type": "execute_result"
    }
   ],
   "source": [
    "reg_tb[\"Share\"].value_counts()"
   ]
  },
  {
   "cell_type": "raw",
   "id": "76caac4d-39af-4065-b5e4-15498ad536bc",
   "metadata": {},
   "source": [
    "大多数球员没有mvp评分，在评估/训练时可尝试删去"
   ]
  },
  {
   "cell_type": "code",
   "execution_count": 83,
   "id": "2e979345-0865-44c7-9fcb-fd0c3da4f0f7",
   "metadata": {},
   "outputs": [
    {
     "data": {
      "text/plain": [
       "0.12408874861101633"
      ]
     },
     "execution_count": 83,
     "metadata": {},
     "output_type": "execute_result"
    }
   ],
   "source": [
    "show_mse_error(reg_tb,10)"
   ]
  },
  {
   "cell_type": "raw",
   "id": "a1578893-bb4c-4029-a472-02e1d75ae708",
   "metadata": {},
   "source": [
    "模型效果不理想，需进一步改进"
   ]
  },
  {
   "cell_type": "markdown",
   "id": "8c5feffa-442b-4836-8bc1-d81011a77268",
   "metadata": {},
   "source": [
    "### 使用随机森林预测"
   ]
  },
  {
   "cell_type": "code",
   "execution_count": 97,
   "id": "66ea44f4-4463-4e8d-81bc-bb823f9645f0",
   "metadata": {},
   "outputs": [
    {
     "data": {
      "text/plain": [
       "RandomForestRegressor(min_samples_split=5, n_estimators=200, random_state=1)"
      ]
     },
     "execution_count": 97,
     "metadata": {},
     "output_type": "execute_result"
    }
   ],
   "source": [
    "rf = RandomForestRegressor(n_estimators=200, random_state=1, min_samples_split=5)\n",
    "rf.fit(train_x,train_y)"
   ]
  },
  {
   "cell_type": "code",
   "execution_count": 100,
   "id": "f4e320ba-b77c-4d46-9cb9-7fdaac39f1d1",
   "metadata": {},
   "outputs": [],
   "source": [
    "mvp_pred_rf = rf.predict(test_x)"
   ]
  },
  {
   "cell_type": "code",
   "execution_count": 101,
   "id": "c7d698cd-f486-4381-91e6-68abbcf4f9bb",
   "metadata": {},
   "outputs": [
    {
     "data": {
      "text/html": [
       "<div>\n",
       "<style scoped>\n",
       "    .dataframe tbody tr th:only-of-type {\n",
       "        vertical-align: middle;\n",
       "    }\n",
       "\n",
       "    .dataframe tbody tr th {\n",
       "        vertical-align: top;\n",
       "    }\n",
       "\n",
       "    .dataframe thead th {\n",
       "        text-align: right;\n",
       "    }\n",
       "</style>\n",
       "<table border=\"1\" class=\"dataframe\">\n",
       "  <thead>\n",
       "    <tr style=\"text-align: right;\">\n",
       "      <th></th>\n",
       "      <th>Player</th>\n",
       "      <th>Share</th>\n",
       "      <th>predictions</th>\n",
       "      <th>Rk</th>\n",
       "      <th>Predicted_Rk</th>\n",
       "      <th>Rk_diff</th>\n",
       "    </tr>\n",
       "  </thead>\n",
       "  <tbody>\n",
       "    <tr>\n",
       "      <th>0</th>\n",
       "      <td>Giannis Antetokounmpo</td>\n",
       "      <td>0.952</td>\n",
       "      <td>0.515098</td>\n",
       "      <td>1</td>\n",
       "      <td>2</td>\n",
       "      <td>-1</td>\n",
       "    </tr>\n",
       "    <tr>\n",
       "      <th>1</th>\n",
       "      <td>LeBron James</td>\n",
       "      <td>0.746</td>\n",
       "      <td>0.391800</td>\n",
       "      <td>2</td>\n",
       "      <td>4</td>\n",
       "      <td>-2</td>\n",
       "    </tr>\n",
       "    <tr>\n",
       "      <th>2</th>\n",
       "      <td>James Harden</td>\n",
       "      <td>0.363</td>\n",
       "      <td>0.558738</td>\n",
       "      <td>3</td>\n",
       "      <td>1</td>\n",
       "      <td>2</td>\n",
       "    </tr>\n",
       "    <tr>\n",
       "      <th>3</th>\n",
       "      <td>Luka Doncic</td>\n",
       "      <td>0.198</td>\n",
       "      <td>0.200225</td>\n",
       "      <td>4</td>\n",
       "      <td>10</td>\n",
       "      <td>-6</td>\n",
       "    </tr>\n",
       "    <tr>\n",
       "      <th>4</th>\n",
       "      <td>Kawhi Leonard</td>\n",
       "      <td>0.166</td>\n",
       "      <td>0.263889</td>\n",
       "      <td>5</td>\n",
       "      <td>7</td>\n",
       "      <td>-2</td>\n",
       "    </tr>\n",
       "    <tr>\n",
       "      <th>5</th>\n",
       "      <td>Anthony Davis</td>\n",
       "      <td>0.081</td>\n",
       "      <td>0.055849</td>\n",
       "      <td>6</td>\n",
       "      <td>18</td>\n",
       "      <td>-12</td>\n",
       "    </tr>\n",
       "    <tr>\n",
       "      <th>6</th>\n",
       "      <td>Chris Paul</td>\n",
       "      <td>0.026</td>\n",
       "      <td>0.000082</td>\n",
       "      <td>7</td>\n",
       "      <td>68</td>\n",
       "      <td>-61</td>\n",
       "    </tr>\n",
       "    <tr>\n",
       "      <th>7</th>\n",
       "      <td>Damian Lillard</td>\n",
       "      <td>0.023</td>\n",
       "      <td>0.268374</td>\n",
       "      <td>8</td>\n",
       "      <td>6</td>\n",
       "      <td>2</td>\n",
       "    </tr>\n",
       "    <tr>\n",
       "      <th>8</th>\n",
       "      <td>Nikola Jokic</td>\n",
       "      <td>0.018</td>\n",
       "      <td>0.200225</td>\n",
       "      <td>9</td>\n",
       "      <td>9</td>\n",
       "      <td>0</td>\n",
       "    </tr>\n",
       "    <tr>\n",
       "      <th>9</th>\n",
       "      <td>Pascal Siakam</td>\n",
       "      <td>0.017</td>\n",
       "      <td>0.002717</td>\n",
       "      <td>10</td>\n",
       "      <td>32</td>\n",
       "      <td>-22</td>\n",
       "    </tr>\n",
       "  </tbody>\n",
       "</table>\n",
       "</div>"
      ],
      "text/plain": [
       "                  Player  Share  predictions  Rk  Predicted_Rk  Rk_diff\n",
       "0  Giannis Antetokounmpo  0.952     0.515098   1             2       -1\n",
       "1           LeBron James  0.746     0.391800   2             4       -2\n",
       "2           James Harden  0.363     0.558738   3             1        2\n",
       "3            Luka Doncic  0.198     0.200225   4            10       -6\n",
       "4          Kawhi Leonard  0.166     0.263889   5             7       -2\n",
       "5          Anthony Davis  0.081     0.055849   6            18      -12\n",
       "6             Chris Paul  0.026     0.000082   7            68      -61\n",
       "7         Damian Lillard  0.023     0.268374   8             6        2\n",
       "8           Nikola Jokic  0.018     0.200225   9             9        0\n",
       "9          Pascal Siakam  0.017     0.002717  10            32      -22"
      ]
     },
     "execution_count": 101,
     "metadata": {},
     "output_type": "execute_result"
    }
   ],
   "source": [
    "rf_tb = show_pre_table(mvp_pred_rf)\n",
    "rf_tb.head(10)"
   ]
  },
  {
   "cell_type": "code",
   "execution_count": 102,
   "id": "76a2d053-f331-4658-b837-4117d13c6fc4",
   "metadata": {},
   "outputs": [
    {
     "data": {
      "text/plain": [
       "0.0018310263205336156"
      ]
     },
     "execution_count": 102,
     "metadata": {},
     "output_type": "execute_result"
    }
   ],
   "source": [
    "show_mse_error(rf_tb)"
   ]
  },
  {
   "cell_type": "markdown",
   "id": "06206d06-ec53-4cf1-868d-93453d9e155a",
   "metadata": {},
   "source": [
    "#### 超参选择"
   ]
  },
  {
   "cell_type": "code",
   "execution_count": 86,
   "id": "aa674f87-9455-4c9e-9e93-937ee669ed34",
   "metadata": {},
   "outputs": [],
   "source": [
    "from sklearn.model_selection import GridSearchCV"
   ]
  },
  {
   "cell_type": "code",
   "execution_count": 88,
   "id": "1303a4df-4efc-4aba-b745-c07f60be0289",
   "metadata": {},
   "outputs": [],
   "source": [
    "rf_grid = RandomForestRegressor()\n",
    "\n",
    "params_dt = {\n",
    "    'max_depth': [3,4,5,6],\n",
    "    'min_samples_leaf' : [0.04, 0.06, 0.08],\n",
    "    'max_features' : [0.2, 0.4, 0.6, 0.8]\n",
    "}"
   ]
  },
  {
   "cell_type": "code",
   "execution_count": 91,
   "id": "0f07a3ec-e489-4382-8f3a-a99c5e01af5b",
   "metadata": {},
   "outputs": [],
   "source": [
    "grid_dt = GridSearchCV(estimator=rf_grid,\n",
    "                      param_grid=params_dt,\n",
    "                      scoring=\"neg_mean_squared_error\",\n",
    "                      cv=5,\n",
    "                      n_jobs=-1)"
   ]
  },
  {
   "cell_type": "code",
   "execution_count": 92,
   "id": "ba08a83e-cba7-4cbc-a4bf-ec594fe98444",
   "metadata": {},
   "outputs": [
    {
     "data": {
      "text/plain": [
       "GridSearchCV(cv=5, estimator=RandomForestRegressor(), n_jobs=-1,\n",
       "             param_grid={'max_depth': [3, 4, 5, 6],\n",
       "                         'max_features': [0.2, 0.4, 0.6, 0.8],\n",
       "                         'min_samples_leaf': [0.04, 0.06, 0.08]},\n",
       "             scoring='neg_mean_squared_error')"
      ]
     },
     "execution_count": 92,
     "metadata": {},
     "output_type": "execute_result"
    }
   ],
   "source": [
    "grid_dt.fit(train_x,train_y)"
   ]
  },
  {
   "cell_type": "code",
   "execution_count": 93,
   "id": "99d4fb8e-7fc2-4805-bd62-10e665fc09f6",
   "metadata": {},
   "outputs": [
    {
     "data": {
      "text/plain": [
       "{'max_depth': 5, 'max_features': 0.4, 'min_samples_leaf': 0.04}"
      ]
     },
     "execution_count": 93,
     "metadata": {},
     "output_type": "execute_result"
    }
   ],
   "source": [
    "grid_dt.best_params_"
   ]
  },
  {
   "cell_type": "code",
   "execution_count": 96,
   "id": "f36f221c-84ad-4195-9fb5-006bacd02011",
   "metadata": {},
   "outputs": [
    {
     "data": {
      "text/html": [
       "<div>\n",
       "<style scoped>\n",
       "    .dataframe tbody tr th:only-of-type {\n",
       "        vertical-align: middle;\n",
       "    }\n",
       "\n",
       "    .dataframe tbody tr th {\n",
       "        vertical-align: top;\n",
       "    }\n",
       "\n",
       "    .dataframe thead th {\n",
       "        text-align: right;\n",
       "    }\n",
       "</style>\n",
       "<table border=\"1\" class=\"dataframe\">\n",
       "  <thead>\n",
       "    <tr style=\"text-align: right;\">\n",
       "      <th></th>\n",
       "      <th>Player</th>\n",
       "      <th>Share</th>\n",
       "      <th>predictions</th>\n",
       "      <th>Rk</th>\n",
       "      <th>Predicted_Rk</th>\n",
       "      <th>Rk_diff</th>\n",
       "    </tr>\n",
       "  </thead>\n",
       "  <tbody>\n",
       "    <tr>\n",
       "      <th>0</th>\n",
       "      <td>Giannis Antetokounmpo</td>\n",
       "      <td>0.952</td>\n",
       "      <td>0.044885</td>\n",
       "      <td>1</td>\n",
       "      <td>3</td>\n",
       "      <td>-2</td>\n",
       "    </tr>\n",
       "    <tr>\n",
       "      <th>1</th>\n",
       "      <td>LeBron James</td>\n",
       "      <td>0.746</td>\n",
       "      <td>0.042146</td>\n",
       "      <td>2</td>\n",
       "      <td>6</td>\n",
       "      <td>-4</td>\n",
       "    </tr>\n",
       "    <tr>\n",
       "      <th>2</th>\n",
       "      <td>James Harden</td>\n",
       "      <td>0.363</td>\n",
       "      <td>0.029154</td>\n",
       "      <td>3</td>\n",
       "      <td>21</td>\n",
       "      <td>-18</td>\n",
       "    </tr>\n",
       "    <tr>\n",
       "      <th>3</th>\n",
       "      <td>Luka Doncic</td>\n",
       "      <td>0.198</td>\n",
       "      <td>0.055132</td>\n",
       "      <td>4</td>\n",
       "      <td>2</td>\n",
       "      <td>2</td>\n",
       "    </tr>\n",
       "    <tr>\n",
       "      <th>4</th>\n",
       "      <td>Kawhi Leonard</td>\n",
       "      <td>0.166</td>\n",
       "      <td>0.029639</td>\n",
       "      <td>5</td>\n",
       "      <td>15</td>\n",
       "      <td>-10</td>\n",
       "    </tr>\n",
       "    <tr>\n",
       "      <th>5</th>\n",
       "      <td>Anthony Davis</td>\n",
       "      <td>0.081</td>\n",
       "      <td>0.044620</td>\n",
       "      <td>6</td>\n",
       "      <td>4</td>\n",
       "      <td>2</td>\n",
       "    </tr>\n",
       "    <tr>\n",
       "      <th>6</th>\n",
       "      <td>Chris Paul</td>\n",
       "      <td>0.026</td>\n",
       "      <td>0.001600</td>\n",
       "      <td>7</td>\n",
       "      <td>170</td>\n",
       "      <td>-163</td>\n",
       "    </tr>\n",
       "    <tr>\n",
       "      <th>7</th>\n",
       "      <td>Damian Lillard</td>\n",
       "      <td>0.023</td>\n",
       "      <td>0.029071</td>\n",
       "      <td>8</td>\n",
       "      <td>23</td>\n",
       "      <td>-15</td>\n",
       "    </tr>\n",
       "    <tr>\n",
       "      <th>8</th>\n",
       "      <td>Nikola Jokic</td>\n",
       "      <td>0.018</td>\n",
       "      <td>0.055132</td>\n",
       "      <td>9</td>\n",
       "      <td>1</td>\n",
       "      <td>8</td>\n",
       "    </tr>\n",
       "    <tr>\n",
       "      <th>9</th>\n",
       "      <td>Pascal Siakam</td>\n",
       "      <td>0.017</td>\n",
       "      <td>0.042897</td>\n",
       "      <td>10</td>\n",
       "      <td>5</td>\n",
       "      <td>5</td>\n",
       "    </tr>\n",
       "  </tbody>\n",
       "</table>\n",
       "</div>"
      ],
      "text/plain": [
       "                  Player  Share  predictions  Rk  Predicted_Rk  Rk_diff\n",
       "0  Giannis Antetokounmpo  0.952     0.044885   1             3       -2\n",
       "1           LeBron James  0.746     0.042146   2             6       -4\n",
       "2           James Harden  0.363     0.029154   3            21      -18\n",
       "3            Luka Doncic  0.198     0.055132   4             2        2\n",
       "4          Kawhi Leonard  0.166     0.029639   5            15      -10\n",
       "5          Anthony Davis  0.081     0.044620   6             4        2\n",
       "6             Chris Paul  0.026     0.001600   7           170     -163\n",
       "7         Damian Lillard  0.023     0.029071   8            23      -15\n",
       "8           Nikola Jokic  0.018     0.055132   9             1        8\n",
       "9          Pascal Siakam  0.017     0.042897  10             5        5"
      ]
     },
     "execution_count": 96,
     "metadata": {},
     "output_type": "execute_result"
    }
   ],
   "source": [
    "grid_rf_mvp =  grid_dt.predict(test_x)\n",
    "grid_rf_tb = show_pre_table(grid_rf_mvp)\n",
    "grid_rf_tb.head(10)"
   ]
  },
  {
   "cell_type": "code",
   "execution_count": 106,
   "id": "9005dd1d-024c-4e76-b084-a59526fb8391",
   "metadata": {},
   "outputs": [
    {
     "data": {
      "text/plain": [
       "0.002888936460081706"
      ]
     },
     "execution_count": 106,
     "metadata": {},
     "output_type": "execute_result"
    }
   ],
   "source": [
    "show_mse_error(grid_rf_tb)"
   ]
  },
  {
   "cell_type": "markdown",
   "id": "3f12c636-c020-4337-8d24-4539d3e3d3f2",
   "metadata": {},
   "source": [
    "### 使用xgboost进行预测"
   ]
  },
  {
   "cell_type": "code",
   "execution_count": 105,
   "id": "c1caf277-9ee7-4e5a-809e-71d7c7841183",
   "metadata": {},
   "outputs": [
    {
     "data": {
      "text/html": [
       "<div>\n",
       "<style scoped>\n",
       "    .dataframe tbody tr th:only-of-type {\n",
       "        vertical-align: middle;\n",
       "    }\n",
       "\n",
       "    .dataframe tbody tr th {\n",
       "        vertical-align: top;\n",
       "    }\n",
       "\n",
       "    .dataframe thead th {\n",
       "        text-align: right;\n",
       "    }\n",
       "</style>\n",
       "<table border=\"1\" class=\"dataframe\">\n",
       "  <thead>\n",
       "    <tr style=\"text-align: right;\">\n",
       "      <th></th>\n",
       "      <th>PTS</th>\n",
       "      <th>AST</th>\n",
       "      <th>STL</th>\n",
       "      <th>BLK</th>\n",
       "      <th>3P</th>\n",
       "      <th>Year</th>\n",
       "    </tr>\n",
       "  </thead>\n",
       "  <tbody>\n",
       "    <tr>\n",
       "      <th>0</th>\n",
       "      <td>1.582274</td>\n",
       "      <td>0.699473</td>\n",
       "      <td>1.546996</td>\n",
       "      <td>0.880044</td>\n",
       "      <td>0.471006</td>\n",
       "      <td>1.0</td>\n",
       "    </tr>\n",
       "    <tr>\n",
       "      <th>1</th>\n",
       "      <td>1.733520</td>\n",
       "      <td>1.398946</td>\n",
       "      <td>1.828269</td>\n",
       "      <td>0.660033</td>\n",
       "      <td>3.297041</td>\n",
       "      <td>1.0</td>\n",
       "    </tr>\n",
       "    <tr>\n",
       "      <th>2</th>\n",
       "      <td>0.418837</td>\n",
       "      <td>0.299774</td>\n",
       "      <td>0.421908</td>\n",
       "      <td>0.440022</td>\n",
       "      <td>0.000000</td>\n",
       "      <td>1.0</td>\n",
       "    </tr>\n",
       "    <tr>\n",
       "      <th>3</th>\n",
       "      <td>0.372300</td>\n",
       "      <td>0.499623</td>\n",
       "      <td>0.843816</td>\n",
       "      <td>0.000000</td>\n",
       "      <td>0.000000</td>\n",
       "      <td>1.0</td>\n",
       "    </tr>\n",
       "    <tr>\n",
       "      <th>4</th>\n",
       "      <td>0.186150</td>\n",
       "      <td>0.849360</td>\n",
       "      <td>0.140636</td>\n",
       "      <td>0.000000</td>\n",
       "      <td>0.471006</td>\n",
       "      <td>1.0</td>\n",
       "    </tr>\n",
       "    <tr>\n",
       "      <th>...</th>\n",
       "      <td>...</td>\n",
       "      <td>...</td>\n",
       "      <td>...</td>\n",
       "      <td>...</td>\n",
       "      <td>...</td>\n",
       "      <td>...</td>\n",
       "    </tr>\n",
       "    <tr>\n",
       "      <th>13369</th>\n",
       "      <td>0.000000</td>\n",
       "      <td>0.000000</td>\n",
       "      <td>0.000000</td>\n",
       "      <td>0.000000</td>\n",
       "      <td>0.000000</td>\n",
       "      <td>1.0</td>\n",
       "    </tr>\n",
       "    <tr>\n",
       "      <th>13370</th>\n",
       "      <td>0.000000</td>\n",
       "      <td>0.000000</td>\n",
       "      <td>0.000000</td>\n",
       "      <td>0.000000</td>\n",
       "      <td>0.000000</td>\n",
       "      <td>1.0</td>\n",
       "    </tr>\n",
       "    <tr>\n",
       "      <th>13371</th>\n",
       "      <td>0.000000</td>\n",
       "      <td>0.000000</td>\n",
       "      <td>0.000000</td>\n",
       "      <td>0.000000</td>\n",
       "      <td>0.000000</td>\n",
       "      <td>1.0</td>\n",
       "    </tr>\n",
       "    <tr>\n",
       "      <th>13372</th>\n",
       "      <td>0.000000</td>\n",
       "      <td>0.000000</td>\n",
       "      <td>0.000000</td>\n",
       "      <td>0.000000</td>\n",
       "      <td>0.000000</td>\n",
       "      <td>1.0</td>\n",
       "    </tr>\n",
       "    <tr>\n",
       "      <th>13373</th>\n",
       "      <td>0.000000</td>\n",
       "      <td>0.000000</td>\n",
       "      <td>0.000000</td>\n",
       "      <td>0.000000</td>\n",
       "      <td>0.000000</td>\n",
       "      <td>1.0</td>\n",
       "    </tr>\n",
       "  </tbody>\n",
       "</table>\n",
       "<p>13374 rows × 6 columns</p>\n",
       "</div>"
      ],
      "text/plain": [
       "            PTS       AST       STL       BLK        3P  Year\n",
       "0      1.582274  0.699473  1.546996  0.880044  0.471006   1.0\n",
       "1      1.733520  1.398946  1.828269  0.660033  3.297041   1.0\n",
       "2      0.418837  0.299774  0.421908  0.440022  0.000000   1.0\n",
       "3      0.372300  0.499623  0.843816  0.000000  0.000000   1.0\n",
       "4      0.186150  0.849360  0.140636  0.000000  0.471006   1.0\n",
       "...         ...       ...       ...       ...       ...   ...\n",
       "13369  0.000000  0.000000  0.000000  0.000000  0.000000   1.0\n",
       "13370  0.000000  0.000000  0.000000  0.000000  0.000000   1.0\n",
       "13371  0.000000  0.000000  0.000000  0.000000  0.000000   1.0\n",
       "13372  0.000000  0.000000  0.000000  0.000000  0.000000   1.0\n",
       "13373  0.000000  0.000000  0.000000  0.000000  0.000000   1.0\n",
       "\n",
       "[13374 rows x 6 columns]"
      ]
     },
     "execution_count": 105,
     "metadata": {},
     "output_type": "execute_result"
    }
   ],
   "source": [
    "stats[[\"PTS\", \"AST\", \"STL\", \"BLK\", \"3P\", \"Year\"]].groupby(\"Year\").apply(lambda x: x/x.mean())"
   ]
  }
 ],
 "metadata": {
  "kernelspec": {
   "display_name": "Python 3 (ipykernel)",
   "language": "python",
   "name": "python3"
  },
  "language_info": {
   "codemirror_mode": {
    "name": "ipython",
    "version": 3
   },
   "file_extension": ".py",
   "mimetype": "text/x-python",
   "name": "python",
   "nbconvert_exporter": "python",
   "pygments_lexer": "ipython3",
   "version": "3.7.1"
  }
 },
 "nbformat": 4,
 "nbformat_minor": 5
}
